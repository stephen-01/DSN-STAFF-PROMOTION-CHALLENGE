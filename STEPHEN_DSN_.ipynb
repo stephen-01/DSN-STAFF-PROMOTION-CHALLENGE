{
 "cells": [
  {
   "cell_type": "markdown",
   "metadata": {},
   "source": [
    "# IMPORTING DEPENDENCIES"
   ]
  },
  {
   "cell_type": "code",
   "execution_count": 1,
   "metadata": {},
   "outputs": [],
   "source": [
    "import numpy as np\n",
    "import pandas as pd\n",
    "pd.set_option('display.max_rows', 80)\n",
    "pd.set_option('display.max_columns', 80)\n",
    "pd.set_option('max_colwidth', 300)\n",
    "from sklearn.metrics import classification_report,accuracy_score,confusion_matrix\n",
    "from matplotlib import pyplot as plt\n",
    "%matplotlib inline\n",
    "import seaborn as sns\n",
    "color =sns.color_palette()\n",
    "sns.set_style('darkgrid')\n",
    "import warnings\n",
    "def ignore_warn(*args, **kwargs):\n",
    "    pass\n",
    "warnings.warn = ignore_warn"
   ]
  },
  {
   "cell_type": "markdown",
   "metadata": {},
   "source": [
    "# DATA PREPARATION"
   ]
  },
  {
   "cell_type": "code",
   "execution_count": 2,
   "metadata": {},
   "outputs": [],
   "source": [
    "#Read csv file\n",
    "train = pd.read_csv('train.csv')\n",
    "test = pd.read_csv('test.csv')"
   ]
  },
  {
   "cell_type": "code",
   "execution_count": 3,
   "metadata": {},
   "outputs": [
    {
     "data": {
      "text/html": [
       "<div>\n",
       "<style scoped>\n",
       "    .dataframe tbody tr th:only-of-type {\n",
       "        vertical-align: middle;\n",
       "    }\n",
       "\n",
       "    .dataframe tbody tr th {\n",
       "        vertical-align: top;\n",
       "    }\n",
       "\n",
       "    .dataframe thead th {\n",
       "        text-align: right;\n",
       "    }\n",
       "</style>\n",
       "<table border=\"1\" class=\"dataframe\">\n",
       "  <thead>\n",
       "    <tr style=\"text-align: right;\">\n",
       "      <th></th>\n",
       "      <th>EmployeeNo</th>\n",
       "      <th>Division</th>\n",
       "      <th>Qualification</th>\n",
       "      <th>Gender</th>\n",
       "      <th>Channel_of_Recruitment</th>\n",
       "      <th>Trainings_Attended</th>\n",
       "      <th>Year_of_birth</th>\n",
       "      <th>Last_performance_score</th>\n",
       "      <th>Year_of_recruitment</th>\n",
       "      <th>Targets_met</th>\n",
       "      <th>Previous_Award</th>\n",
       "      <th>Training_score_average</th>\n",
       "      <th>State_Of_Origin</th>\n",
       "      <th>Foreign_schooled</th>\n",
       "      <th>Marital_Status</th>\n",
       "      <th>Past_Disciplinary_Action</th>\n",
       "      <th>Previous_IntraDepartmental_Movement</th>\n",
       "      <th>No_of_previous_employers</th>\n",
       "      <th>Promoted_or_Not</th>\n",
       "    </tr>\n",
       "  </thead>\n",
       "  <tbody>\n",
       "    <tr>\n",
       "      <th>0</th>\n",
       "      <td>YAK/S/00001</td>\n",
       "      <td>Commercial Sales and Marketing</td>\n",
       "      <td>MSc, MBA and PhD</td>\n",
       "      <td>Female</td>\n",
       "      <td>Direct Internal process</td>\n",
       "      <td>2</td>\n",
       "      <td>1986</td>\n",
       "      <td>12.5</td>\n",
       "      <td>2011</td>\n",
       "      <td>1</td>\n",
       "      <td>0</td>\n",
       "      <td>41</td>\n",
       "      <td>ANAMBRA</td>\n",
       "      <td>No</td>\n",
       "      <td>Married</td>\n",
       "      <td>No</td>\n",
       "      <td>No</td>\n",
       "      <td>0</td>\n",
       "      <td>0</td>\n",
       "    </tr>\n",
       "    <tr>\n",
       "      <th>1</th>\n",
       "      <td>YAK/S/00002</td>\n",
       "      <td>Customer Support and Field Operations</td>\n",
       "      <td>First Degree or HND</td>\n",
       "      <td>Male</td>\n",
       "      <td>Agency and others</td>\n",
       "      <td>2</td>\n",
       "      <td>1991</td>\n",
       "      <td>12.5</td>\n",
       "      <td>2015</td>\n",
       "      <td>0</td>\n",
       "      <td>0</td>\n",
       "      <td>52</td>\n",
       "      <td>ANAMBRA</td>\n",
       "      <td>Yes</td>\n",
       "      <td>Married</td>\n",
       "      <td>No</td>\n",
       "      <td>No</td>\n",
       "      <td>0</td>\n",
       "      <td>0</td>\n",
       "    </tr>\n",
       "    <tr>\n",
       "      <th>2</th>\n",
       "      <td>YAK/S/00003</td>\n",
       "      <td>Commercial Sales and Marketing</td>\n",
       "      <td>First Degree or HND</td>\n",
       "      <td>Male</td>\n",
       "      <td>Direct Internal process</td>\n",
       "      <td>2</td>\n",
       "      <td>1987</td>\n",
       "      <td>7.5</td>\n",
       "      <td>2012</td>\n",
       "      <td>0</td>\n",
       "      <td>0</td>\n",
       "      <td>42</td>\n",
       "      <td>KATSINA</td>\n",
       "      <td>Yes</td>\n",
       "      <td>Married</td>\n",
       "      <td>No</td>\n",
       "      <td>No</td>\n",
       "      <td>0</td>\n",
       "      <td>0</td>\n",
       "    </tr>\n",
       "    <tr>\n",
       "      <th>3</th>\n",
       "      <td>YAK/S/00004</td>\n",
       "      <td>Commercial Sales and Marketing</td>\n",
       "      <td>First Degree or HND</td>\n",
       "      <td>Male</td>\n",
       "      <td>Agency and others</td>\n",
       "      <td>3</td>\n",
       "      <td>1982</td>\n",
       "      <td>2.5</td>\n",
       "      <td>2009</td>\n",
       "      <td>0</td>\n",
       "      <td>0</td>\n",
       "      <td>42</td>\n",
       "      <td>NIGER</td>\n",
       "      <td>Yes</td>\n",
       "      <td>Single</td>\n",
       "      <td>No</td>\n",
       "      <td>No</td>\n",
       "      <td>1</td>\n",
       "      <td>0</td>\n",
       "    </tr>\n",
       "    <tr>\n",
       "      <th>4</th>\n",
       "      <td>YAK/S/00006</td>\n",
       "      <td>Information and Strategy</td>\n",
       "      <td>First Degree or HND</td>\n",
       "      <td>Male</td>\n",
       "      <td>Direct Internal process</td>\n",
       "      <td>3</td>\n",
       "      <td>1990</td>\n",
       "      <td>7.5</td>\n",
       "      <td>2012</td>\n",
       "      <td>0</td>\n",
       "      <td>0</td>\n",
       "      <td>77</td>\n",
       "      <td>AKWA IBOM</td>\n",
       "      <td>Yes</td>\n",
       "      <td>Married</td>\n",
       "      <td>No</td>\n",
       "      <td>No</td>\n",
       "      <td>1</td>\n",
       "      <td>0</td>\n",
       "    </tr>\n",
       "  </tbody>\n",
       "</table>\n",
       "</div>"
      ],
      "text/plain": [
       "    EmployeeNo                               Division        Qualification  \\\n",
       "0  YAK/S/00001         Commercial Sales and Marketing     MSc, MBA and PhD   \n",
       "1  YAK/S/00002  Customer Support and Field Operations  First Degree or HND   \n",
       "2  YAK/S/00003         Commercial Sales and Marketing  First Degree or HND   \n",
       "3  YAK/S/00004         Commercial Sales and Marketing  First Degree or HND   \n",
       "4  YAK/S/00006               Information and Strategy  First Degree or HND   \n",
       "\n",
       "   Gender   Channel_of_Recruitment  Trainings_Attended  Year_of_birth  \\\n",
       "0  Female  Direct Internal process                   2           1986   \n",
       "1    Male        Agency and others                   2           1991   \n",
       "2    Male  Direct Internal process                   2           1987   \n",
       "3    Male        Agency and others                   3           1982   \n",
       "4    Male  Direct Internal process                   3           1990   \n",
       "\n",
       "   Last_performance_score  Year_of_recruitment  Targets_met  Previous_Award  \\\n",
       "0                    12.5                 2011            1               0   \n",
       "1                    12.5                 2015            0               0   \n",
       "2                     7.5                 2012            0               0   \n",
       "3                     2.5                 2009            0               0   \n",
       "4                     7.5                 2012            0               0   \n",
       "\n",
       "   Training_score_average State_Of_Origin Foreign_schooled Marital_Status  \\\n",
       "0                      41         ANAMBRA               No        Married   \n",
       "1                      52         ANAMBRA              Yes        Married   \n",
       "2                      42         KATSINA              Yes        Married   \n",
       "3                      42           NIGER              Yes         Single   \n",
       "4                      77       AKWA IBOM              Yes        Married   \n",
       "\n",
       "  Past_Disciplinary_Action Previous_IntraDepartmental_Movement  \\\n",
       "0                       No                                  No   \n",
       "1                       No                                  No   \n",
       "2                       No                                  No   \n",
       "3                       No                                  No   \n",
       "4                       No                                  No   \n",
       "\n",
       "  No_of_previous_employers  Promoted_or_Not  \n",
       "0                        0                0  \n",
       "1                        0                0  \n",
       "2                        0                0  \n",
       "3                        1                0  \n",
       "4                        1                0  "
      ]
     },
     "execution_count": 3,
     "metadata": {},
     "output_type": "execute_result"
    }
   ],
   "source": [
    "#preview the train and test dataset\n",
    "train.head()"
   ]
  },
  {
   "cell_type": "code",
   "execution_count": 4,
   "metadata": {},
   "outputs": [
    {
     "data": {
      "text/html": [
       "<div>\n",
       "<style scoped>\n",
       "    .dataframe tbody tr th:only-of-type {\n",
       "        vertical-align: middle;\n",
       "    }\n",
       "\n",
       "    .dataframe tbody tr th {\n",
       "        vertical-align: top;\n",
       "    }\n",
       "\n",
       "    .dataframe thead th {\n",
       "        text-align: right;\n",
       "    }\n",
       "</style>\n",
       "<table border=\"1\" class=\"dataframe\">\n",
       "  <thead>\n",
       "    <tr style=\"text-align: right;\">\n",
       "      <th></th>\n",
       "      <th>EmployeeNo</th>\n",
       "      <th>Division</th>\n",
       "      <th>Qualification</th>\n",
       "      <th>Gender</th>\n",
       "      <th>Channel_of_Recruitment</th>\n",
       "      <th>Trainings_Attended</th>\n",
       "      <th>Year_of_birth</th>\n",
       "      <th>Last_performance_score</th>\n",
       "      <th>Year_of_recruitment</th>\n",
       "      <th>Targets_met</th>\n",
       "      <th>Previous_Award</th>\n",
       "      <th>Training_score_average</th>\n",
       "      <th>State_Of_Origin</th>\n",
       "      <th>Foreign_schooled</th>\n",
       "      <th>Marital_Status</th>\n",
       "      <th>Past_Disciplinary_Action</th>\n",
       "      <th>Previous_IntraDepartmental_Movement</th>\n",
       "      <th>No_of_previous_employers</th>\n",
       "    </tr>\n",
       "  </thead>\n",
       "  <tbody>\n",
       "    <tr>\n",
       "      <th>0</th>\n",
       "      <td>YAK/S/00005</td>\n",
       "      <td>Information Technology and Solution Support</td>\n",
       "      <td>First Degree or HND</td>\n",
       "      <td>Male</td>\n",
       "      <td>Agency and others</td>\n",
       "      <td>2</td>\n",
       "      <td>1976</td>\n",
       "      <td>7.5</td>\n",
       "      <td>2017</td>\n",
       "      <td>0</td>\n",
       "      <td>0</td>\n",
       "      <td>65</td>\n",
       "      <td>FCT</td>\n",
       "      <td>Yes</td>\n",
       "      <td>Married</td>\n",
       "      <td>No</td>\n",
       "      <td>No</td>\n",
       "      <td>1</td>\n",
       "    </tr>\n",
       "    <tr>\n",
       "      <th>1</th>\n",
       "      <td>YAK/S/00011</td>\n",
       "      <td>Information Technology and Solution Support</td>\n",
       "      <td>NaN</td>\n",
       "      <td>Male</td>\n",
       "      <td>Direct Internal process</td>\n",
       "      <td>2</td>\n",
       "      <td>1991</td>\n",
       "      <td>0.0</td>\n",
       "      <td>2018</td>\n",
       "      <td>0</td>\n",
       "      <td>0</td>\n",
       "      <td>69</td>\n",
       "      <td>OGUN</td>\n",
       "      <td>Yes</td>\n",
       "      <td>Married</td>\n",
       "      <td>No</td>\n",
       "      <td>No</td>\n",
       "      <td>1</td>\n",
       "    </tr>\n",
       "    <tr>\n",
       "      <th>2</th>\n",
       "      <td>YAK/S/00015</td>\n",
       "      <td>Research and Innovation</td>\n",
       "      <td>MSc, MBA and PhD</td>\n",
       "      <td>Male</td>\n",
       "      <td>Direct Internal process</td>\n",
       "      <td>2</td>\n",
       "      <td>1984</td>\n",
       "      <td>7.5</td>\n",
       "      <td>2012</td>\n",
       "      <td>0</td>\n",
       "      <td>0</td>\n",
       "      <td>76</td>\n",
       "      <td>KANO</td>\n",
       "      <td>Yes</td>\n",
       "      <td>Married</td>\n",
       "      <td>No</td>\n",
       "      <td>No</td>\n",
       "      <td>1</td>\n",
       "    </tr>\n",
       "    <tr>\n",
       "      <th>3</th>\n",
       "      <td>YAK/S/00016</td>\n",
       "      <td>Customer Support and Field Operations</td>\n",
       "      <td>First Degree or HND</td>\n",
       "      <td>Male</td>\n",
       "      <td>Agency and others</td>\n",
       "      <td>2</td>\n",
       "      <td>1984</td>\n",
       "      <td>2.5</td>\n",
       "      <td>2009</td>\n",
       "      <td>0</td>\n",
       "      <td>0</td>\n",
       "      <td>52</td>\n",
       "      <td>RIVERS</td>\n",
       "      <td>No</td>\n",
       "      <td>Single</td>\n",
       "      <td>No</td>\n",
       "      <td>No</td>\n",
       "      <td>1</td>\n",
       "    </tr>\n",
       "    <tr>\n",
       "      <th>4</th>\n",
       "      <td>YAK/S/00017</td>\n",
       "      <td>Information Technology and Solution Support</td>\n",
       "      <td>First Degree or HND</td>\n",
       "      <td>Male</td>\n",
       "      <td>Agency and others</td>\n",
       "      <td>2</td>\n",
       "      <td>1983</td>\n",
       "      <td>7.5</td>\n",
       "      <td>2014</td>\n",
       "      <td>1</td>\n",
       "      <td>0</td>\n",
       "      <td>69</td>\n",
       "      <td>FCT</td>\n",
       "      <td>Yes</td>\n",
       "      <td>Married</td>\n",
       "      <td>No</td>\n",
       "      <td>No</td>\n",
       "      <td>0</td>\n",
       "    </tr>\n",
       "  </tbody>\n",
       "</table>\n",
       "</div>"
      ],
      "text/plain": [
       "    EmployeeNo                                     Division  \\\n",
       "0  YAK/S/00005  Information Technology and Solution Support   \n",
       "1  YAK/S/00011  Information Technology and Solution Support   \n",
       "2  YAK/S/00015                      Research and Innovation   \n",
       "3  YAK/S/00016        Customer Support and Field Operations   \n",
       "4  YAK/S/00017  Information Technology and Solution Support   \n",
       "\n",
       "         Qualification Gender   Channel_of_Recruitment  Trainings_Attended  \\\n",
       "0  First Degree or HND   Male        Agency and others                   2   \n",
       "1                  NaN   Male  Direct Internal process                   2   \n",
       "2     MSc, MBA and PhD   Male  Direct Internal process                   2   \n",
       "3  First Degree or HND   Male        Agency and others                   2   \n",
       "4  First Degree or HND   Male        Agency and others                   2   \n",
       "\n",
       "   Year_of_birth  Last_performance_score  Year_of_recruitment  Targets_met  \\\n",
       "0           1976                     7.5                 2017            0   \n",
       "1           1991                     0.0                 2018            0   \n",
       "2           1984                     7.5                 2012            0   \n",
       "3           1984                     2.5                 2009            0   \n",
       "4           1983                     7.5                 2014            1   \n",
       "\n",
       "   Previous_Award  Training_score_average State_Of_Origin Foreign_schooled  \\\n",
       "0               0                      65             FCT              Yes   \n",
       "1               0                      69            OGUN              Yes   \n",
       "2               0                      76            KANO              Yes   \n",
       "3               0                      52          RIVERS               No   \n",
       "4               0                      69             FCT              Yes   \n",
       "\n",
       "  Marital_Status Past_Disciplinary_Action Previous_IntraDepartmental_Movement  \\\n",
       "0        Married                       No                                  No   \n",
       "1        Married                       No                                  No   \n",
       "2        Married                       No                                  No   \n",
       "3         Single                       No                                  No   \n",
       "4        Married                       No                                  No   \n",
       "\n",
       "  No_of_previous_employers  \n",
       "0                        1  \n",
       "1                        1  \n",
       "2                        1  \n",
       "3                        1  \n",
       "4                        0  "
      ]
     },
     "execution_count": 4,
     "metadata": {},
     "output_type": "execute_result"
    }
   ],
   "source": [
    "test.head()"
   ]
  },
  {
   "cell_type": "markdown",
   "metadata": {},
   "source": [
    "# QUICK EXPLORATORY DATA ANALYSIS"
   ]
  },
  {
   "cell_type": "code",
   "execution_count": 5,
   "metadata": {},
   "outputs": [
    {
     "name": "stdout",
     "output_type": "stream",
     "text": [
      "<class 'pandas.core.frame.DataFrame'>\n",
      "RangeIndex: 38312 entries, 0 to 38311\n",
      "Data columns (total 19 columns):\n",
      "EmployeeNo                             38312 non-null object\n",
      "Division                               38312 non-null object\n",
      "Qualification                          36633 non-null object\n",
      "Gender                                 38312 non-null object\n",
      "Channel_of_Recruitment                 38312 non-null object\n",
      "Trainings_Attended                     38312 non-null int64\n",
      "Year_of_birth                          38312 non-null int64\n",
      "Last_performance_score                 38312 non-null float64\n",
      "Year_of_recruitment                    38312 non-null int64\n",
      "Targets_met                            38312 non-null int64\n",
      "Previous_Award                         38312 non-null int64\n",
      "Training_score_average                 38312 non-null int64\n",
      "State_Of_Origin                        38312 non-null object\n",
      "Foreign_schooled                       38312 non-null object\n",
      "Marital_Status                         38312 non-null object\n",
      "Past_Disciplinary_Action               38312 non-null object\n",
      "Previous_IntraDepartmental_Movement    38312 non-null object\n",
      "No_of_previous_employers               38312 non-null object\n",
      "Promoted_or_Not                        38312 non-null int64\n",
      "dtypes: float64(1), int64(7), object(11)\n",
      "memory usage: 5.6+ MB\n"
     ]
    }
   ],
   "source": [
    "#checking train info\n",
    "train.info()"
   ]
  },
  {
   "cell_type": "code",
   "execution_count": 6,
   "metadata": {},
   "outputs": [
    {
     "name": "stdout",
     "output_type": "stream",
     "text": [
      "<class 'pandas.core.frame.DataFrame'>\n",
      "RangeIndex: 16496 entries, 0 to 16495\n",
      "Data columns (total 18 columns):\n",
      "EmployeeNo                             16496 non-null object\n",
      "Division                               16496 non-null object\n",
      "Qualification                          15766 non-null object\n",
      "Gender                                 16496 non-null object\n",
      "Channel_of_Recruitment                 16496 non-null object\n",
      "Trainings_Attended                     16496 non-null int64\n",
      "Year_of_birth                          16496 non-null int64\n",
      "Last_performance_score                 16496 non-null float64\n",
      "Year_of_recruitment                    16496 non-null int64\n",
      "Targets_met                            16496 non-null int64\n",
      "Previous_Award                         16496 non-null int64\n",
      "Training_score_average                 16496 non-null int64\n",
      "State_Of_Origin                        16496 non-null object\n",
      "Foreign_schooled                       16496 non-null object\n",
      "Marital_Status                         16496 non-null object\n",
      "Past_Disciplinary_Action               16496 non-null object\n",
      "Previous_IntraDepartmental_Movement    16496 non-null object\n",
      "No_of_previous_employers               16496 non-null object\n",
      "dtypes: float64(1), int64(6), object(11)\n",
      "memory usage: 2.3+ MB\n"
     ]
    }
   ],
   "source": [
    "test.info()"
   ]
  },
  {
   "cell_type": "code",
   "execution_count": 7,
   "metadata": {},
   "outputs": [],
   "source": [
    "#train.nunique()"
   ]
  },
  {
   "cell_type": "code",
   "execution_count": 8,
   "metadata": {},
   "outputs": [],
   "source": [
    "#Checking for uniqueness in the features\n",
    "columns = ['Division', 'Qualification', 'Gender', 'Channel_of_Recruitment',\n",
    "       'Trainings_Attended', 'Year_of_birth', 'Last_performance_score', 'Targets_met', 'Previous_Award',\n",
    "       'Training_score_average', 'State_Of_Origin', 'Foreign_schooled',\n",
    "       'Marital_Status', 'Past_Disciplinary_Action',\n",
    "       'Previous_IntraDepartmental_Movement', 'No_of_previous_employers']\n",
    "\n",
    "def uniqueness(dataset, columns):\n",
    "    for col in columns:\n",
    "        key = dataset[col].value_counts().count()\n",
    "        print('..................')\n",
    "        print(col + ' ' + 'Column:', key)     "
   ]
  },
  {
   "cell_type": "code",
   "execution_count": 9,
   "metadata": {},
   "outputs": [
    {
     "name": "stdout",
     "output_type": "stream",
     "text": [
      "..................\n",
      "Division Column: 9\n",
      "..................\n",
      "Qualification Column: 3\n",
      "..................\n",
      "Gender Column: 2\n",
      "..................\n",
      "Channel_of_Recruitment Column: 3\n",
      "..................\n",
      "Trainings_Attended Column: 10\n",
      "..................\n",
      "Year_of_birth Column: 49\n",
      "..................\n",
      "Last_performance_score Column: 6\n",
      "..................\n",
      "Targets_met Column: 2\n",
      "..................\n",
      "Previous_Award Column: 2\n",
      "..................\n",
      "Training_score_average Column: 61\n",
      "..................\n",
      "State_Of_Origin Column: 37\n",
      "..................\n",
      "Foreign_schooled Column: 2\n",
      "..................\n",
      "Marital_Status Column: 3\n",
      "..................\n",
      "Past_Disciplinary_Action Column: 2\n",
      "..................\n",
      "Previous_IntraDepartmental_Movement Column: 2\n",
      "..................\n",
      "No_of_previous_employers Column: 7\n"
     ]
    }
   ],
   "source": [
    "uniqueness(train, columns)"
   ]
  },
  {
   "cell_type": "code",
   "execution_count": 10,
   "metadata": {},
   "outputs": [
    {
     "name": "stdout",
     "output_type": "stream",
     "text": [
      "..................\n",
      "Division Column: 9\n",
      "..................\n",
      "Qualification Column: 3\n",
      "..................\n",
      "Gender Column: 2\n",
      "..................\n",
      "Channel_of_Recruitment Column: 3\n",
      "..................\n",
      "Trainings_Attended Column: 9\n",
      "..................\n",
      "Year_of_birth Column: 44\n",
      "..................\n",
      "Last_performance_score Column: 6\n",
      "..................\n",
      "Targets_met Column: 2\n",
      "..................\n",
      "Previous_Award Column: 2\n",
      "..................\n",
      "Training_score_average Column: 60\n",
      "..................\n",
      "State_Of_Origin Column: 37\n",
      "..................\n",
      "Foreign_schooled Column: 2\n",
      "..................\n",
      "Marital_Status Column: 3\n",
      "..................\n",
      "Past_Disciplinary_Action Column: 2\n",
      "..................\n",
      "Previous_IntraDepartmental_Movement Column: 2\n",
      "..................\n",
      "No_of_previous_employers Column: 7\n"
     ]
    }
   ],
   "source": [
    "uniqueness(test, columns)"
   ]
  },
  {
   "cell_type": "code",
   "execution_count": 11,
   "metadata": {},
   "outputs": [
    {
     "data": {
      "text/html": [
       "<div>\n",
       "<style scoped>\n",
       "    .dataframe tbody tr th:only-of-type {\n",
       "        vertical-align: middle;\n",
       "    }\n",
       "\n",
       "    .dataframe tbody tr th {\n",
       "        vertical-align: top;\n",
       "    }\n",
       "\n",
       "    .dataframe thead th {\n",
       "        text-align: right;\n",
       "    }\n",
       "</style>\n",
       "<table border=\"1\" class=\"dataframe\">\n",
       "  <thead>\n",
       "    <tr style=\"text-align: right;\">\n",
       "      <th></th>\n",
       "      <th>Trainings_Attended</th>\n",
       "      <th>Year_of_birth</th>\n",
       "      <th>Last_performance_score</th>\n",
       "      <th>Year_of_recruitment</th>\n",
       "      <th>Targets_met</th>\n",
       "      <th>Previous_Award</th>\n",
       "      <th>Training_score_average</th>\n",
       "      <th>Promoted_or_Not</th>\n",
       "    </tr>\n",
       "  </thead>\n",
       "  <tbody>\n",
       "    <tr>\n",
       "      <th>count</th>\n",
       "      <td>38312.000000</td>\n",
       "      <td>38312.000000</td>\n",
       "      <td>38312.000000</td>\n",
       "      <td>38312.000000</td>\n",
       "      <td>38312.000000</td>\n",
       "      <td>38312.000000</td>\n",
       "      <td>38312.000000</td>\n",
       "      <td>38312.000000</td>\n",
       "    </tr>\n",
       "    <tr>\n",
       "      <th>mean</th>\n",
       "      <td>2.253680</td>\n",
       "      <td>1986.209334</td>\n",
       "      <td>7.698959</td>\n",
       "      <td>2013.139695</td>\n",
       "      <td>0.352996</td>\n",
       "      <td>0.023152</td>\n",
       "      <td>55.366465</td>\n",
       "      <td>0.084595</td>\n",
       "    </tr>\n",
       "    <tr>\n",
       "      <th>std</th>\n",
       "      <td>0.609443</td>\n",
       "      <td>7.646047</td>\n",
       "      <td>3.744135</td>\n",
       "      <td>4.261451</td>\n",
       "      <td>0.477908</td>\n",
       "      <td>0.150388</td>\n",
       "      <td>13.362741</td>\n",
       "      <td>0.278282</td>\n",
       "    </tr>\n",
       "    <tr>\n",
       "      <th>min</th>\n",
       "      <td>2.000000</td>\n",
       "      <td>1950.000000</td>\n",
       "      <td>0.000000</td>\n",
       "      <td>1982.000000</td>\n",
       "      <td>0.000000</td>\n",
       "      <td>0.000000</td>\n",
       "      <td>31.000000</td>\n",
       "      <td>0.000000</td>\n",
       "    </tr>\n",
       "    <tr>\n",
       "      <th>25%</th>\n",
       "      <td>2.000000</td>\n",
       "      <td>1982.000000</td>\n",
       "      <td>5.000000</td>\n",
       "      <td>2012.000000</td>\n",
       "      <td>0.000000</td>\n",
       "      <td>0.000000</td>\n",
       "      <td>43.000000</td>\n",
       "      <td>0.000000</td>\n",
       "    </tr>\n",
       "    <tr>\n",
       "      <th>50%</th>\n",
       "      <td>2.000000</td>\n",
       "      <td>1988.000000</td>\n",
       "      <td>7.500000</td>\n",
       "      <td>2014.000000</td>\n",
       "      <td>0.000000</td>\n",
       "      <td>0.000000</td>\n",
       "      <td>52.000000</td>\n",
       "      <td>0.000000</td>\n",
       "    </tr>\n",
       "    <tr>\n",
       "      <th>75%</th>\n",
       "      <td>2.000000</td>\n",
       "      <td>1992.000000</td>\n",
       "      <td>10.000000</td>\n",
       "      <td>2016.000000</td>\n",
       "      <td>1.000000</td>\n",
       "      <td>0.000000</td>\n",
       "      <td>68.000000</td>\n",
       "      <td>0.000000</td>\n",
       "    </tr>\n",
       "    <tr>\n",
       "      <th>max</th>\n",
       "      <td>11.000000</td>\n",
       "      <td>2001.000000</td>\n",
       "      <td>12.500000</td>\n",
       "      <td>2018.000000</td>\n",
       "      <td>1.000000</td>\n",
       "      <td>1.000000</td>\n",
       "      <td>91.000000</td>\n",
       "      <td>1.000000</td>\n",
       "    </tr>\n",
       "  </tbody>\n",
       "</table>\n",
       "</div>"
      ],
      "text/plain": [
       "       Trainings_Attended  Year_of_birth  Last_performance_score  \\\n",
       "count        38312.000000   38312.000000            38312.000000   \n",
       "mean             2.253680    1986.209334                7.698959   \n",
       "std              0.609443       7.646047                3.744135   \n",
       "min              2.000000    1950.000000                0.000000   \n",
       "25%              2.000000    1982.000000                5.000000   \n",
       "50%              2.000000    1988.000000                7.500000   \n",
       "75%              2.000000    1992.000000               10.000000   \n",
       "max             11.000000    2001.000000               12.500000   \n",
       "\n",
       "       Year_of_recruitment   Targets_met  Previous_Award  \\\n",
       "count         38312.000000  38312.000000    38312.000000   \n",
       "mean           2013.139695      0.352996        0.023152   \n",
       "std               4.261451      0.477908        0.150388   \n",
       "min            1982.000000      0.000000        0.000000   \n",
       "25%            2012.000000      0.000000        0.000000   \n",
       "50%            2014.000000      0.000000        0.000000   \n",
       "75%            2016.000000      1.000000        0.000000   \n",
       "max            2018.000000      1.000000        1.000000   \n",
       "\n",
       "       Training_score_average  Promoted_or_Not  \n",
       "count            38312.000000     38312.000000  \n",
       "mean                55.366465         0.084595  \n",
       "std                 13.362741         0.278282  \n",
       "min                 31.000000         0.000000  \n",
       "25%                 43.000000         0.000000  \n",
       "50%                 52.000000         0.000000  \n",
       "75%                 68.000000         0.000000  \n",
       "max                 91.000000         1.000000  "
      ]
     },
     "execution_count": 11,
     "metadata": {},
     "output_type": "execute_result"
    }
   ],
   "source": [
    "train.describe()"
   ]
  },
  {
   "cell_type": "code",
   "execution_count": 12,
   "metadata": {},
   "outputs": [
    {
     "data": {
      "text/html": [
       "<div>\n",
       "<style scoped>\n",
       "    .dataframe tbody tr th:only-of-type {\n",
       "        vertical-align: middle;\n",
       "    }\n",
       "\n",
       "    .dataframe tbody tr th {\n",
       "        vertical-align: top;\n",
       "    }\n",
       "\n",
       "    .dataframe thead th {\n",
       "        text-align: right;\n",
       "    }\n",
       "</style>\n",
       "<table border=\"1\" class=\"dataframe\">\n",
       "  <thead>\n",
       "    <tr style=\"text-align: right;\">\n",
       "      <th></th>\n",
       "      <th>Trainings_Attended</th>\n",
       "      <th>Year_of_birth</th>\n",
       "      <th>Last_performance_score</th>\n",
       "      <th>Year_of_recruitment</th>\n",
       "      <th>Targets_met</th>\n",
       "      <th>Previous_Award</th>\n",
       "      <th>Training_score_average</th>\n",
       "    </tr>\n",
       "  </thead>\n",
       "  <tbody>\n",
       "    <tr>\n",
       "      <th>count</th>\n",
       "      <td>16496.000000</td>\n",
       "      <td>16496.000000</td>\n",
       "      <td>16496.000000</td>\n",
       "      <td>16496.000000</td>\n",
       "      <td>16496.000000</td>\n",
       "      <td>16496.000000</td>\n",
       "      <td>16496.000000</td>\n",
       "    </tr>\n",
       "    <tr>\n",
       "      <th>mean</th>\n",
       "      <td>2.251455</td>\n",
       "      <td>1986.161130</td>\n",
       "      <td>7.692016</td>\n",
       "      <td>2013.122393</td>\n",
       "      <td>0.349600</td>\n",
       "      <td>0.023218</td>\n",
       "      <td>55.433863</td>\n",
       "    </tr>\n",
       "    <tr>\n",
       "      <th>std</th>\n",
       "      <td>0.608865</td>\n",
       "      <td>7.708188</td>\n",
       "      <td>3.734303</td>\n",
       "      <td>4.273649</td>\n",
       "      <td>0.476858</td>\n",
       "      <td>0.150599</td>\n",
       "      <td>13.392306</td>\n",
       "    </tr>\n",
       "    <tr>\n",
       "      <th>min</th>\n",
       "      <td>2.000000</td>\n",
       "      <td>1958.000000</td>\n",
       "      <td>0.000000</td>\n",
       "      <td>1986.000000</td>\n",
       "      <td>0.000000</td>\n",
       "      <td>0.000000</td>\n",
       "      <td>31.000000</td>\n",
       "    </tr>\n",
       "    <tr>\n",
       "      <th>25%</th>\n",
       "      <td>2.000000</td>\n",
       "      <td>1982.000000</td>\n",
       "      <td>5.000000</td>\n",
       "      <td>2011.000000</td>\n",
       "      <td>0.000000</td>\n",
       "      <td>0.000000</td>\n",
       "      <td>43.000000</td>\n",
       "    </tr>\n",
       "    <tr>\n",
       "      <th>50%</th>\n",
       "      <td>2.000000</td>\n",
       "      <td>1988.000000</td>\n",
       "      <td>7.500000</td>\n",
       "      <td>2014.000000</td>\n",
       "      <td>0.000000</td>\n",
       "      <td>0.000000</td>\n",
       "      <td>52.000000</td>\n",
       "    </tr>\n",
       "    <tr>\n",
       "      <th>75%</th>\n",
       "      <td>2.000000</td>\n",
       "      <td>1992.000000</td>\n",
       "      <td>10.000000</td>\n",
       "      <td>2016.000000</td>\n",
       "      <td>1.000000</td>\n",
       "      <td>0.000000</td>\n",
       "      <td>68.000000</td>\n",
       "    </tr>\n",
       "    <tr>\n",
       "      <th>max</th>\n",
       "      <td>11.000000</td>\n",
       "      <td>2001.000000</td>\n",
       "      <td>12.500000</td>\n",
       "      <td>2018.000000</td>\n",
       "      <td>1.000000</td>\n",
       "      <td>1.000000</td>\n",
       "      <td>91.000000</td>\n",
       "    </tr>\n",
       "  </tbody>\n",
       "</table>\n",
       "</div>"
      ],
      "text/plain": [
       "       Trainings_Attended  Year_of_birth  Last_performance_score  \\\n",
       "count        16496.000000   16496.000000            16496.000000   \n",
       "mean             2.251455    1986.161130                7.692016   \n",
       "std              0.608865       7.708188                3.734303   \n",
       "min              2.000000    1958.000000                0.000000   \n",
       "25%              2.000000    1982.000000                5.000000   \n",
       "50%              2.000000    1988.000000                7.500000   \n",
       "75%              2.000000    1992.000000               10.000000   \n",
       "max             11.000000    2001.000000               12.500000   \n",
       "\n",
       "       Year_of_recruitment   Targets_met  Previous_Award  \\\n",
       "count         16496.000000  16496.000000    16496.000000   \n",
       "mean           2013.122393      0.349600        0.023218   \n",
       "std               4.273649      0.476858        0.150599   \n",
       "min            1986.000000      0.000000        0.000000   \n",
       "25%            2011.000000      0.000000        0.000000   \n",
       "50%            2014.000000      0.000000        0.000000   \n",
       "75%            2016.000000      1.000000        0.000000   \n",
       "max            2018.000000      1.000000        1.000000   \n",
       "\n",
       "       Training_score_average  \n",
       "count            16496.000000  \n",
       "mean                55.433863  \n",
       "std                 13.392306  \n",
       "min                 31.000000  \n",
       "25%                 43.000000  \n",
       "50%                 52.000000  \n",
       "75%                 68.000000  \n",
       "max                 91.000000  "
      ]
     },
     "execution_count": 12,
     "metadata": {},
     "output_type": "execute_result"
    }
   ],
   "source": [
    "test.describe()"
   ]
  },
  {
   "cell_type": "code",
   "execution_count": 13,
   "metadata": {},
   "outputs": [
    {
     "data": {
      "text/plain": [
       "EmployeeNo                                0\n",
       "Division                                  0\n",
       "Qualification                          1679\n",
       "Gender                                    0\n",
       "Channel_of_Recruitment                    0\n",
       "Trainings_Attended                        0\n",
       "Year_of_birth                             0\n",
       "Last_performance_score                    0\n",
       "Year_of_recruitment                       0\n",
       "Targets_met                               0\n",
       "Previous_Award                            0\n",
       "Training_score_average                    0\n",
       "State_Of_Origin                           0\n",
       "Foreign_schooled                          0\n",
       "Marital_Status                            0\n",
       "Past_Disciplinary_Action                  0\n",
       "Previous_IntraDepartmental_Movement       0\n",
       "No_of_previous_employers                  0\n",
       "Promoted_or_Not                           0\n",
       "dtype: int64"
      ]
     },
     "execution_count": 13,
     "metadata": {},
     "output_type": "execute_result"
    }
   ],
   "source": [
    "train.isna().sum()"
   ]
  },
  {
   "cell_type": "code",
   "execution_count": 14,
   "metadata": {},
   "outputs": [
    {
     "name": "stdout",
     "output_type": "stream",
     "text": [
      "[Train-missing-values]  EmployeeNo                                0\n",
      "Division                                  0\n",
      "Qualification                          1679\n",
      "Gender                                    0\n",
      "Channel_of_Recruitment                    0\n",
      "Trainings_Attended                        0\n",
      "Year_of_birth                             0\n",
      "Last_performance_score                    0\n",
      "Year_of_recruitment                       0\n",
      "Targets_met                               0\n",
      "Previous_Award                            0\n",
      "Training_score_average                    0\n",
      "State_Of_Origin                           0\n",
      "Foreign_schooled                          0\n",
      "Marital_Status                            0\n",
      "Past_Disciplinary_Action                  0\n",
      "Previous_IntraDepartmental_Movement       0\n",
      "No_of_previous_employers                  0\n",
      "Promoted_or_Not                           0\n",
      "dtype: int64\n",
      "[Test-missing-values]  EmployeeNo                               0\n",
      "Division                                 0\n",
      "Qualification                          730\n",
      "Gender                                   0\n",
      "Channel_of_Recruitment                   0\n",
      "Trainings_Attended                       0\n",
      "Year_of_birth                            0\n",
      "Last_performance_score                   0\n",
      "Year_of_recruitment                      0\n",
      "Targets_met                              0\n",
      "Previous_Award                           0\n",
      "Training_score_average                   0\n",
      "State_Of_Origin                          0\n",
      "Foreign_schooled                         0\n",
      "Marital_Status                           0\n",
      "Past_Disciplinary_Action                 0\n",
      "Previous_IntraDepartmental_Movement      0\n",
      "No_of_previous_employers                 0\n",
      "dtype: int64\n"
     ]
    }
   ],
   "source": [
    "train_missing = train.apply(lambda x: sum(x.isnull()), axis =0)\n",
    "test_missing = test.apply(lambda x: sum(x.isnull()), axis =0)\n",
    "print('[Train-missing-values] ' , train_missing)\n",
    "print('[Test-missing-values] ' , test_missing)"
   ]
  },
  {
   "cell_type": "code",
   "execution_count": 15,
   "metadata": {},
   "outputs": [],
   "source": [
    "#Checking for missing values\n",
    "#print (train.isna().sum())\n",
    "#print('.....................')\n",
    "#print (test.isna().sum())"
   ]
  },
  {
   "cell_type": "code",
   "execution_count": 16,
   "metadata": {},
   "outputs": [
    {
     "name": "stdout",
     "output_type": "stream",
     "text": [
      "3241\n",
      "35071\n",
      "38312\n"
     ]
    }
   ],
   "source": [
    "#Checking for the number of employees who are promoted_or_not in order to know if our dataset is balanced or not\n",
    "Promoted = len(train[train.Promoted_or_Not ==1])\n",
    "Not_promoted = len(train[train.Promoted_or_Not ==0])\n",
    "Total = len(train)\n",
    "print (Promoted)\n",
    "print (Not_promoted)\n",
    "print (Total)"
   ]
  },
  {
   "cell_type": "code",
   "execution_count": 17,
   "metadata": {},
   "outputs": [],
   "source": [
    "#train['Promoted_or_Not'].value_counts()"
   ]
  },
  {
   "cell_type": "markdown",
   "metadata": {},
   "source": [
    "# DATA VISUALIZATION "
   ]
  },
  {
   "cell_type": "code",
   "execution_count": 18,
   "metadata": {},
   "outputs": [
    {
     "data": {
      "text/plain": [
       "<matplotlib.axes._subplots.AxesSubplot at 0x1e0ae49ad68>"
      ]
     },
     "execution_count": 18,
     "metadata": {},
     "output_type": "execute_result"
    },
    {
     "data": {
      "image/png": "[encoded data removed]",
      "text/plain": [
       "<Figure size 720x360 with 1 Axes>"
      ]
     },
     "metadata": {
      "needs_background": "light"
     },
     "output_type": "display_data"
    }
   ],
   "source": [
    "train['Channel_of_Recruitment'].value_counts().plot(kind ='bar', figsize=[10,5])"
   ]
  },
  {
   "cell_type": "code",
   "execution_count": 19,
   "metadata": {},
   "outputs": [
    {
     "data": {
      "text/plain": [
       "<matplotlib.axes._subplots.AxesSubplot at 0x1e0ae599748>"
      ]
     },
     "execution_count": 19,
     "metadata": {},
     "output_type": "execute_result"
    },
    {
     "data": {
      "image/png": "[encoded data removed]",
      "text/plain": [
       "<Figure size 432x288 with 1 Axes>"
      ]
     },
     "metadata": {
      "needs_background": "light"
     },
     "output_type": "display_data"
    }
   ],
   "source": [
    "pd.crosstab(train['Channel_of_Recruitment'],train['Promoted_or_Not']).plot(kind='bar',color=['blue','yellow'],stacked=True)"
   ]
  },
  {
   "cell_type": "code",
   "execution_count": 20,
   "metadata": {},
   "outputs": [
    {
     "data": {
      "image/png": "[encoded data removed]",
      "text/plain": [
       "<Figure size 1267.2x288 with 2 Axes>"
      ]
     },
     "metadata": {
      "needs_background": "light"
     },
     "output_type": "display_data"
    }
   ],
   "source": [
    "a = sns.FacetGrid(train, col='Promoted_or_Not', size=4, aspect=2.2)\n",
    "a = a.map(sns.countplot, 'Channel_of_Recruitment' )"
   ]
  },
  {
   "cell_type": "code",
   "execution_count": 21,
   "metadata": {},
   "outputs": [
    {
     "name": "stderr",
     "output_type": "stream",
     "text": [
      "C:\\Users\\stephen\\Anaconda3\\lib\\site-packages\\scipy\\stats\\stats.py:1713: FutureWarning: Using a non-tuple sequence for multidimensional indexing is deprecated; use `arr[tuple(seq)]` instead of `arr[seq]`. In the future this will be interpreted as an array index, `arr[np.array(seq)]`, which will result either in an error or a different result.\n",
      "  return np.add.reduce(sorted[indexer] * weights, axis=axis) / sumval\n"
     ]
    },
    {
     "data": {
      "text/plain": [
       "<seaborn.axisgrid.FacetGrid at 0x1e0ae50b5c0>"
      ]
     },
     "execution_count": 21,
     "metadata": {},
     "output_type": "execute_result"
    },
    {
     "data": {
      "image/png": "[encoded data removed]",
      "text/plain": [
       "<Figure size 502.375x360 with 1 Axes>"
      ]
     },
     "metadata": {
      "needs_background": "light"
     },
     "output_type": "display_data"
    }
   ],
   "source": [
    "sns.factorplot(x=\"Gender\", y=\"Promoted_or_Not\", hue=\"Channel_of_Recruitment\",data=train, aspect=0.9, size=5)"
   ]
  },
  {
   "cell_type": "code",
   "execution_count": 22,
   "metadata": {},
   "outputs": [
    {
     "data": {
      "text/plain": [
       "<matplotlib.axes._subplots.AxesSubplot at 0x1e0ae7b3ba8>"
      ]
     },
     "execution_count": 22,
     "metadata": {},
     "output_type": "execute_result"
    },
    {
     "data": {
      "image/png": "[encoded data removed]",
      "text/plain": [
       "<Figure size 1440x576 with 1 Axes>"
      ]
     },
     "metadata": {
      "needs_background": "light"
     },
     "output_type": "display_data"
    }
   ],
   "source": [
    "plt.figure(figsize=[20,8])\n",
    "sns.barplot('Year_of_birth', 'Promoted_or_Not', data=train)"
   ]
  },
  {
   "cell_type": "markdown",
   "metadata": {},
   "source": [
    "# interacting between features with respect to been promoted or not"
   ]
  },
  {
   "cell_type": "code",
   "execution_count": 23,
   "metadata": {},
   "outputs": [
    {
     "data": {
      "text/plain": [
       "<seaborn.axisgrid.FacetGrid at 0x1e0aef07da0>"
      ]
     },
     "execution_count": 23,
     "metadata": {},
     "output_type": "execute_result"
    },
    {
     "data": {
      "image/png": "[encoded data removed]",
      "text/plain": [
       "<Figure size 587.775x288 with 2 Axes>"
      ]
     },
     "metadata": {
      "needs_background": "light"
     },
     "output_type": "display_data"
    }
   ],
   "source": [
    "sns.factorplot(x=\"Last_performance_score\", y=\"Promoted_or_Not\", hue=\"Gender\", col=\"Foreign_schooled\",data=train, aspect=0.9, size=4, ci=95.0)"
   ]
  },
  {
   "cell_type": "code",
   "execution_count": 24,
   "metadata": {},
   "outputs": [
    {
     "data": {
      "text/plain": [
       "<seaborn.axisgrid.FacetGrid at 0x1e0aedb2710>"
      ]
     },
     "execution_count": 24,
     "metadata": {},
     "output_type": "execute_result"
    },
    {
     "data": {
      "image/png": "[encoded data removed]",
      "text/plain": [
       "<Figure size 846.975x288 with 3 Axes>"
      ]
     },
     "metadata": {
      "needs_background": "light"
     },
     "output_type": "display_data"
    }
   ],
   "source": [
    "sns.factorplot(x=\"Last_performance_score\", y=\"Promoted_or_Not\", hue=\"Gender\", col=\"Channel_of_Recruitment\",data=train, aspect=0.9, size=4, ci=95.0)"
   ]
  },
  {
   "cell_type": "code",
   "execution_count": null,
   "metadata": {},
   "outputs": [],
   "source": []
  },
  {
   "cell_type": "markdown",
   "metadata": {},
   "source": [
    "# FEATURE ENGINEERING"
   ]
  },
  {
   "cell_type": "code",
   "execution_count": 25,
   "metadata": {},
   "outputs": [],
   "source": [
    "def recruit_channel(x):\n",
    "    if x == 'Direct Internal process':\n",
    "        return 0\n",
    "    elif x == 'Agency and others':\n",
    "        return 0\n",
    "    else:\n",
    "        return 1  "
   ]
  },
  {
   "cell_type": "code",
   "execution_count": 26,
   "metadata": {},
   "outputs": [],
   "source": [
    "train['recruit_channel_distinct'] = train['Channel_of_Recruitment'].apply(recruit_channel)"
   ]
  },
  {
   "cell_type": "code",
   "execution_count": 27,
   "metadata": {},
   "outputs": [
    {
     "data": {
      "text/html": [
       "<div>\n",
       "<style scoped>\n",
       "    .dataframe tbody tr th:only-of-type {\n",
       "        vertical-align: middle;\n",
       "    }\n",
       "\n",
       "    .dataframe tbody tr th {\n",
       "        vertical-align: top;\n",
       "    }\n",
       "\n",
       "    .dataframe thead th {\n",
       "        text-align: right;\n",
       "    }\n",
       "</style>\n",
       "<table border=\"1\" class=\"dataframe\">\n",
       "  <thead>\n",
       "    <tr style=\"text-align: right;\">\n",
       "      <th></th>\n",
       "      <th>EmployeeNo</th>\n",
       "      <th>Division</th>\n",
       "      <th>Qualification</th>\n",
       "      <th>Gender</th>\n",
       "      <th>Channel_of_Recruitment</th>\n",
       "      <th>Trainings_Attended</th>\n",
       "      <th>Year_of_birth</th>\n",
       "      <th>Last_performance_score</th>\n",
       "      <th>Year_of_recruitment</th>\n",
       "      <th>Targets_met</th>\n",
       "      <th>Previous_Award</th>\n",
       "      <th>Training_score_average</th>\n",
       "      <th>State_Of_Origin</th>\n",
       "      <th>Foreign_schooled</th>\n",
       "      <th>Marital_Status</th>\n",
       "      <th>Past_Disciplinary_Action</th>\n",
       "      <th>Previous_IntraDepartmental_Movement</th>\n",
       "      <th>No_of_previous_employers</th>\n",
       "      <th>Promoted_or_Not</th>\n",
       "      <th>recruit_channel_distinct</th>\n",
       "    </tr>\n",
       "  </thead>\n",
       "  <tbody>\n",
       "    <tr>\n",
       "      <th>0</th>\n",
       "      <td>YAK/S/00001</td>\n",
       "      <td>Commercial Sales and Marketing</td>\n",
       "      <td>MSc, MBA and PhD</td>\n",
       "      <td>Female</td>\n",
       "      <td>Direct Internal process</td>\n",
       "      <td>2</td>\n",
       "      <td>1986</td>\n",
       "      <td>12.5</td>\n",
       "      <td>2011</td>\n",
       "      <td>1</td>\n",
       "      <td>0</td>\n",
       "      <td>41</td>\n",
       "      <td>ANAMBRA</td>\n",
       "      <td>No</td>\n",
       "      <td>Married</td>\n",
       "      <td>No</td>\n",
       "      <td>No</td>\n",
       "      <td>0</td>\n",
       "      <td>0</td>\n",
       "      <td>0</td>\n",
       "    </tr>\n",
       "    <tr>\n",
       "      <th>1</th>\n",
       "      <td>YAK/S/00002</td>\n",
       "      <td>Customer Support and Field Operations</td>\n",
       "      <td>First Degree or HND</td>\n",
       "      <td>Male</td>\n",
       "      <td>Agency and others</td>\n",
       "      <td>2</td>\n",
       "      <td>1991</td>\n",
       "      <td>12.5</td>\n",
       "      <td>2015</td>\n",
       "      <td>0</td>\n",
       "      <td>0</td>\n",
       "      <td>52</td>\n",
       "      <td>ANAMBRA</td>\n",
       "      <td>Yes</td>\n",
       "      <td>Married</td>\n",
       "      <td>No</td>\n",
       "      <td>No</td>\n",
       "      <td>0</td>\n",
       "      <td>0</td>\n",
       "      <td>0</td>\n",
       "    </tr>\n",
       "    <tr>\n",
       "      <th>2</th>\n",
       "      <td>YAK/S/00003</td>\n",
       "      <td>Commercial Sales and Marketing</td>\n",
       "      <td>First Degree or HND</td>\n",
       "      <td>Male</td>\n",
       "      <td>Direct Internal process</td>\n",
       "      <td>2</td>\n",
       "      <td>1987</td>\n",
       "      <td>7.5</td>\n",
       "      <td>2012</td>\n",
       "      <td>0</td>\n",
       "      <td>0</td>\n",
       "      <td>42</td>\n",
       "      <td>KATSINA</td>\n",
       "      <td>Yes</td>\n",
       "      <td>Married</td>\n",
       "      <td>No</td>\n",
       "      <td>No</td>\n",
       "      <td>0</td>\n",
       "      <td>0</td>\n",
       "      <td>0</td>\n",
       "    </tr>\n",
       "    <tr>\n",
       "      <th>3</th>\n",
       "      <td>YAK/S/00004</td>\n",
       "      <td>Commercial Sales and Marketing</td>\n",
       "      <td>First Degree or HND</td>\n",
       "      <td>Male</td>\n",
       "      <td>Agency and others</td>\n",
       "      <td>3</td>\n",
       "      <td>1982</td>\n",
       "      <td>2.5</td>\n",
       "      <td>2009</td>\n",
       "      <td>0</td>\n",
       "      <td>0</td>\n",
       "      <td>42</td>\n",
       "      <td>NIGER</td>\n",
       "      <td>Yes</td>\n",
       "      <td>Single</td>\n",
       "      <td>No</td>\n",
       "      <td>No</td>\n",
       "      <td>1</td>\n",
       "      <td>0</td>\n",
       "      <td>0</td>\n",
       "    </tr>\n",
       "    <tr>\n",
       "      <th>4</th>\n",
       "      <td>YAK/S/00006</td>\n",
       "      <td>Information and Strategy</td>\n",
       "      <td>First Degree or HND</td>\n",
       "      <td>Male</td>\n",
       "      <td>Direct Internal process</td>\n",
       "      <td>3</td>\n",
       "      <td>1990</td>\n",
       "      <td>7.5</td>\n",
       "      <td>2012</td>\n",
       "      <td>0</td>\n",
       "      <td>0</td>\n",
       "      <td>77</td>\n",
       "      <td>AKWA IBOM</td>\n",
       "      <td>Yes</td>\n",
       "      <td>Married</td>\n",
       "      <td>No</td>\n",
       "      <td>No</td>\n",
       "      <td>1</td>\n",
       "      <td>0</td>\n",
       "      <td>0</td>\n",
       "    </tr>\n",
       "  </tbody>\n",
       "</table>\n",
       "</div>"
      ],
      "text/plain": [
       "    EmployeeNo                               Division        Qualification  \\\n",
       "0  YAK/S/00001         Commercial Sales and Marketing     MSc, MBA and PhD   \n",
       "1  YAK/S/00002  Customer Support and Field Operations  First Degree or HND   \n",
       "2  YAK/S/00003         Commercial Sales and Marketing  First Degree or HND   \n",
       "3  YAK/S/00004         Commercial Sales and Marketing  First Degree or HND   \n",
       "4  YAK/S/00006               Information and Strategy  First Degree or HND   \n",
       "\n",
       "   Gender   Channel_of_Recruitment  Trainings_Attended  Year_of_birth  \\\n",
       "0  Female  Direct Internal process                   2           1986   \n",
       "1    Male        Agency and others                   2           1991   \n",
       "2    Male  Direct Internal process                   2           1987   \n",
       "3    Male        Agency and others                   3           1982   \n",
       "4    Male  Direct Internal process                   3           1990   \n",
       "\n",
       "   Last_performance_score  Year_of_recruitment  Targets_met  Previous_Award  \\\n",
       "0                    12.5                 2011            1               0   \n",
       "1                    12.5                 2015            0               0   \n",
       "2                     7.5                 2012            0               0   \n",
       "3                     2.5                 2009            0               0   \n",
       "4                     7.5                 2012            0               0   \n",
       "\n",
       "   Training_score_average State_Of_Origin Foreign_schooled Marital_Status  \\\n",
       "0                      41         ANAMBRA               No        Married   \n",
       "1                      52         ANAMBRA              Yes        Married   \n",
       "2                      42         KATSINA              Yes        Married   \n",
       "3                      42           NIGER              Yes         Single   \n",
       "4                      77       AKWA IBOM              Yes        Married   \n",
       "\n",
       "  Past_Disciplinary_Action Previous_IntraDepartmental_Movement  \\\n",
       "0                       No                                  No   \n",
       "1                       No                                  No   \n",
       "2                       No                                  No   \n",
       "3                       No                                  No   \n",
       "4                       No                                  No   \n",
       "\n",
       "  No_of_previous_employers  Promoted_or_Not  recruit_channel_distinct  \n",
       "0                        0                0                         0  \n",
       "1                        0                0                         0  \n",
       "2                        0                0                         0  \n",
       "3                        1                0                         0  \n",
       "4                        1                0                         0  "
      ]
     },
     "execution_count": 27,
     "metadata": {},
     "output_type": "execute_result"
    }
   ],
   "source": [
    "train.head()"
   ]
  },
  {
   "cell_type": "code",
   "execution_count": 28,
   "metadata": {},
   "outputs": [
    {
     "data": {
      "text/html": [
       "<div>\n",
       "<style scoped>\n",
       "    .dataframe tbody tr th:only-of-type {\n",
       "        vertical-align: middle;\n",
       "    }\n",
       "\n",
       "    .dataframe tbody tr th {\n",
       "        vertical-align: top;\n",
       "    }\n",
       "\n",
       "    .dataframe thead th {\n",
       "        text-align: right;\n",
       "    }\n",
       "</style>\n",
       "<table border=\"1\" class=\"dataframe\">\n",
       "  <thead>\n",
       "    <tr style=\"text-align: right;\">\n",
       "      <th></th>\n",
       "      <th>EmployeeNo</th>\n",
       "      <th>Division</th>\n",
       "      <th>Qualification</th>\n",
       "      <th>Gender</th>\n",
       "      <th>Channel_of_Recruitment</th>\n",
       "      <th>Trainings_Attended</th>\n",
       "      <th>Year_of_birth</th>\n",
       "      <th>Last_performance_score</th>\n",
       "      <th>Year_of_recruitment</th>\n",
       "      <th>Targets_met</th>\n",
       "      <th>Previous_Award</th>\n",
       "      <th>Training_score_average</th>\n",
       "      <th>State_Of_Origin</th>\n",
       "      <th>Foreign_schooled</th>\n",
       "      <th>Marital_Status</th>\n",
       "      <th>Past_Disciplinary_Action</th>\n",
       "      <th>Previous_IntraDepartmental_Movement</th>\n",
       "      <th>No_of_previous_employers</th>\n",
       "      <th>recruit_channel_distinct</th>\n",
       "    </tr>\n",
       "  </thead>\n",
       "  <tbody>\n",
       "    <tr>\n",
       "      <th>0</th>\n",
       "      <td>YAK/S/00005</td>\n",
       "      <td>Information Technology and Solution Support</td>\n",
       "      <td>First Degree or HND</td>\n",
       "      <td>Male</td>\n",
       "      <td>Agency and others</td>\n",
       "      <td>2</td>\n",
       "      <td>1976</td>\n",
       "      <td>7.5</td>\n",
       "      <td>2017</td>\n",
       "      <td>0</td>\n",
       "      <td>0</td>\n",
       "      <td>65</td>\n",
       "      <td>FCT</td>\n",
       "      <td>Yes</td>\n",
       "      <td>Married</td>\n",
       "      <td>No</td>\n",
       "      <td>No</td>\n",
       "      <td>1</td>\n",
       "      <td>0</td>\n",
       "    </tr>\n",
       "    <tr>\n",
       "      <th>1</th>\n",
       "      <td>YAK/S/00011</td>\n",
       "      <td>Information Technology and Solution Support</td>\n",
       "      <td>NaN</td>\n",
       "      <td>Male</td>\n",
       "      <td>Direct Internal process</td>\n",
       "      <td>2</td>\n",
       "      <td>1991</td>\n",
       "      <td>0.0</td>\n",
       "      <td>2018</td>\n",
       "      <td>0</td>\n",
       "      <td>0</td>\n",
       "      <td>69</td>\n",
       "      <td>OGUN</td>\n",
       "      <td>Yes</td>\n",
       "      <td>Married</td>\n",
       "      <td>No</td>\n",
       "      <td>No</td>\n",
       "      <td>1</td>\n",
       "      <td>0</td>\n",
       "    </tr>\n",
       "    <tr>\n",
       "      <th>2</th>\n",
       "      <td>YAK/S/00015</td>\n",
       "      <td>Research and Innovation</td>\n",
       "      <td>MSc, MBA and PhD</td>\n",
       "      <td>Male</td>\n",
       "      <td>Direct Internal process</td>\n",
       "      <td>2</td>\n",
       "      <td>1984</td>\n",
       "      <td>7.5</td>\n",
       "      <td>2012</td>\n",
       "      <td>0</td>\n",
       "      <td>0</td>\n",
       "      <td>76</td>\n",
       "      <td>KANO</td>\n",
       "      <td>Yes</td>\n",
       "      <td>Married</td>\n",
       "      <td>No</td>\n",
       "      <td>No</td>\n",
       "      <td>1</td>\n",
       "      <td>0</td>\n",
       "    </tr>\n",
       "    <tr>\n",
       "      <th>3</th>\n",
       "      <td>YAK/S/00016</td>\n",
       "      <td>Customer Support and Field Operations</td>\n",
       "      <td>First Degree or HND</td>\n",
       "      <td>Male</td>\n",
       "      <td>Agency and others</td>\n",
       "      <td>2</td>\n",
       "      <td>1984</td>\n",
       "      <td>2.5</td>\n",
       "      <td>2009</td>\n",
       "      <td>0</td>\n",
       "      <td>0</td>\n",
       "      <td>52</td>\n",
       "      <td>RIVERS</td>\n",
       "      <td>No</td>\n",
       "      <td>Single</td>\n",
       "      <td>No</td>\n",
       "      <td>No</td>\n",
       "      <td>1</td>\n",
       "      <td>0</td>\n",
       "    </tr>\n",
       "    <tr>\n",
       "      <th>4</th>\n",
       "      <td>YAK/S/00017</td>\n",
       "      <td>Information Technology and Solution Support</td>\n",
       "      <td>First Degree or HND</td>\n",
       "      <td>Male</td>\n",
       "      <td>Agency and others</td>\n",
       "      <td>2</td>\n",
       "      <td>1983</td>\n",
       "      <td>7.5</td>\n",
       "      <td>2014</td>\n",
       "      <td>1</td>\n",
       "      <td>0</td>\n",
       "      <td>69</td>\n",
       "      <td>FCT</td>\n",
       "      <td>Yes</td>\n",
       "      <td>Married</td>\n",
       "      <td>No</td>\n",
       "      <td>No</td>\n",
       "      <td>0</td>\n",
       "      <td>0</td>\n",
       "    </tr>\n",
       "  </tbody>\n",
       "</table>\n",
       "</div>"
      ],
      "text/plain": [
       "    EmployeeNo                                     Division  \\\n",
       "0  YAK/S/00005  Information Technology and Solution Support   \n",
       "1  YAK/S/00011  Information Technology and Solution Support   \n",
       "2  YAK/S/00015                      Research and Innovation   \n",
       "3  YAK/S/00016        Customer Support and Field Operations   \n",
       "4  YAK/S/00017  Information Technology and Solution Support   \n",
       "\n",
       "         Qualification Gender   Channel_of_Recruitment  Trainings_Attended  \\\n",
       "0  First Degree or HND   Male        Agency and others                   2   \n",
       "1                  NaN   Male  Direct Internal process                   2   \n",
       "2     MSc, MBA and PhD   Male  Direct Internal process                   2   \n",
       "3  First Degree or HND   Male        Agency and others                   2   \n",
       "4  First Degree or HND   Male        Agency and others                   2   \n",
       "\n",
       "   Year_of_birth  Last_performance_score  Year_of_recruitment  Targets_met  \\\n",
       "0           1976                     7.5                 2017            0   \n",
       "1           1991                     0.0                 2018            0   \n",
       "2           1984                     7.5                 2012            0   \n",
       "3           1984                     2.5                 2009            0   \n",
       "4           1983                     7.5                 2014            1   \n",
       "\n",
       "   Previous_Award  Training_score_average State_Of_Origin Foreign_schooled  \\\n",
       "0               0                      65             FCT              Yes   \n",
       "1               0                      69            OGUN              Yes   \n",
       "2               0                      76            KANO              Yes   \n",
       "3               0                      52          RIVERS               No   \n",
       "4               0                      69             FCT              Yes   \n",
       "\n",
       "  Marital_Status Past_Disciplinary_Action Previous_IntraDepartmental_Movement  \\\n",
       "0        Married                       No                                  No   \n",
       "1        Married                       No                                  No   \n",
       "2        Married                       No                                  No   \n",
       "3         Single                       No                                  No   \n",
       "4        Married                       No                                  No   \n",
       "\n",
       "  No_of_previous_employers  recruit_channel_distinct  \n",
       "0                        1                         0  \n",
       "1                        1                         0  \n",
       "2                        1                         0  \n",
       "3                        1                         0  \n",
       "4                        0                         0  "
      ]
     },
     "execution_count": 28,
     "metadata": {},
     "output_type": "execute_result"
    }
   ],
   "source": [
    "test['recruit_channel_distinct'] = train['Channel_of_Recruitment'].apply(recruit_channel)\n",
    "test.head()"
   ]
  },
  {
   "cell_type": "code",
   "execution_count": 29,
   "metadata": {},
   "outputs": [],
   "source": [
    "#Classifying train[states] into Geopolitical zone\n",
    "def train_zone(x):\n",
    "    if x == 'Benue':\n",
    "        return 'North_Central'\n",
    "    elif x == 'Kogi':\n",
    "        return 'North_Central'\n",
    "    elif x == 'Kwara':\n",
    "        return 'North_Central'\n",
    "    elif x == 'Nassarawa':\n",
    "        return 'North_Central'\n",
    "    elif x == 'Niger':\n",
    "        return 'North_Central'\n",
    "    elif x == 'Plateau':\n",
    "        return 'North_Central'\n",
    "    elif x == 'Fct':\n",
    "        return 'North_Central'\n",
    "    elif x == 'Adamawa':\n",
    "        return 'North_East'\n",
    "    elif x == 'Bauchi':\n",
    "        return 'North_East'\n",
    "    elif x == 'Borno':\n",
    "        return 'North_East'\n",
    "    elif x == 'Gombe':\n",
    "        return 'North_East'\n",
    "    elif x == 'Taraba':\n",
    "        return 'North_East'\n",
    "    elif x == 'Yobe':\n",
    "        return 'North_East'\n",
    "    elif x == 'Jigawa':\n",
    "        return 'North_West'\n",
    "    elif x == 'Kaduna':\n",
    "        return 'North_West'\n",
    "    elif x == 'Kano':\n",
    "        return 'North_West'\n",
    "    elif x == 'Katsina':\n",
    "        return 'North_West'\n",
    "    elif x == 'Kebbi':\n",
    "        return 'North_West'\n",
    "    elif x == 'Sokoto':\n",
    "        return 'North_West'\n",
    "    elif x == 'Zamfara':\n",
    "        return 'North_West'\n",
    "    elif x == 'Abia':\n",
    "        return 'South_East'\n",
    "    elif x == 'Anambra':\n",
    "        return 'South_East'\n",
    "    elif x == 'Ebonyi':\n",
    "        return 'South_East'\n",
    "    elif x == 'Enugu':\n",
    "        return 'South_East'\n",
    "    elif x == 'Imo':\n",
    "        return 'South_East'\n",
    "    elif x == 'Akwa Ibom':\n",
    "        return 'South_South'\n",
    "    elif x == 'Bayelsa':\n",
    "        return 'South_South'\n",
    "    elif x == 'Cross River':\n",
    "        return 'South_South'\n",
    "    elif x == 'Rivers':\n",
    "        return 'South_South'\n",
    "    elif x == 'Delta':\n",
    "        return 'South_South'\n",
    "    elif x == 'Edo':\n",
    "        return 'South_South'\n",
    "    else:\n",
    "        return 'South_West'"
   ]
  },
  {
   "cell_type": "code",
   "execution_count": 30,
   "metadata": {},
   "outputs": [],
   "source": [
    "train['Geopolitical_zone'] = train['State_Of_Origin'].apply(train_zone)"
   ]
  },
  {
   "cell_type": "code",
   "execution_count": 31,
   "metadata": {},
   "outputs": [
    {
     "data": {
      "text/html": [
       "<div>\n",
       "<style scoped>\n",
       "    .dataframe tbody tr th:only-of-type {\n",
       "        vertical-align: middle;\n",
       "    }\n",
       "\n",
       "    .dataframe tbody tr th {\n",
       "        vertical-align: top;\n",
       "    }\n",
       "\n",
       "    .dataframe thead th {\n",
       "        text-align: right;\n",
       "    }\n",
       "</style>\n",
       "<table border=\"1\" class=\"dataframe\">\n",
       "  <thead>\n",
       "    <tr style=\"text-align: right;\">\n",
       "      <th></th>\n",
       "      <th>EmployeeNo</th>\n",
       "      <th>Division</th>\n",
       "      <th>Qualification</th>\n",
       "      <th>Gender</th>\n",
       "      <th>Channel_of_Recruitment</th>\n",
       "      <th>Trainings_Attended</th>\n",
       "      <th>Year_of_birth</th>\n",
       "      <th>Last_performance_score</th>\n",
       "      <th>Year_of_recruitment</th>\n",
       "      <th>Targets_met</th>\n",
       "      <th>Previous_Award</th>\n",
       "      <th>Training_score_average</th>\n",
       "      <th>State_Of_Origin</th>\n",
       "      <th>Foreign_schooled</th>\n",
       "      <th>Marital_Status</th>\n",
       "      <th>Past_Disciplinary_Action</th>\n",
       "      <th>Previous_IntraDepartmental_Movement</th>\n",
       "      <th>No_of_previous_employers</th>\n",
       "      <th>Promoted_or_Not</th>\n",
       "      <th>recruit_channel_distinct</th>\n",
       "      <th>Geopolitical_zone</th>\n",
       "    </tr>\n",
       "  </thead>\n",
       "  <tbody>\n",
       "    <tr>\n",
       "      <th>0</th>\n",
       "      <td>YAK/S/00001</td>\n",
       "      <td>Commercial Sales and Marketing</td>\n",
       "      <td>MSc, MBA and PhD</td>\n",
       "      <td>Female</td>\n",
       "      <td>Direct Internal process</td>\n",
       "      <td>2</td>\n",
       "      <td>1986</td>\n",
       "      <td>12.5</td>\n",
       "      <td>2011</td>\n",
       "      <td>1</td>\n",
       "      <td>0</td>\n",
       "      <td>41</td>\n",
       "      <td>ANAMBRA</td>\n",
       "      <td>No</td>\n",
       "      <td>Married</td>\n",
       "      <td>No</td>\n",
       "      <td>No</td>\n",
       "      <td>0</td>\n",
       "      <td>0</td>\n",
       "      <td>0</td>\n",
       "      <td>South_West</td>\n",
       "    </tr>\n",
       "    <tr>\n",
       "      <th>1</th>\n",
       "      <td>YAK/S/00002</td>\n",
       "      <td>Customer Support and Field Operations</td>\n",
       "      <td>First Degree or HND</td>\n",
       "      <td>Male</td>\n",
       "      <td>Agency and others</td>\n",
       "      <td>2</td>\n",
       "      <td>1991</td>\n",
       "      <td>12.5</td>\n",
       "      <td>2015</td>\n",
       "      <td>0</td>\n",
       "      <td>0</td>\n",
       "      <td>52</td>\n",
       "      <td>ANAMBRA</td>\n",
       "      <td>Yes</td>\n",
       "      <td>Married</td>\n",
       "      <td>No</td>\n",
       "      <td>No</td>\n",
       "      <td>0</td>\n",
       "      <td>0</td>\n",
       "      <td>0</td>\n",
       "      <td>South_West</td>\n",
       "    </tr>\n",
       "    <tr>\n",
       "      <th>2</th>\n",
       "      <td>YAK/S/00003</td>\n",
       "      <td>Commercial Sales and Marketing</td>\n",
       "      <td>First Degree or HND</td>\n",
       "      <td>Male</td>\n",
       "      <td>Direct Internal process</td>\n",
       "      <td>2</td>\n",
       "      <td>1987</td>\n",
       "      <td>7.5</td>\n",
       "      <td>2012</td>\n",
       "      <td>0</td>\n",
       "      <td>0</td>\n",
       "      <td>42</td>\n",
       "      <td>KATSINA</td>\n",
       "      <td>Yes</td>\n",
       "      <td>Married</td>\n",
       "      <td>No</td>\n",
       "      <td>No</td>\n",
       "      <td>0</td>\n",
       "      <td>0</td>\n",
       "      <td>0</td>\n",
       "      <td>South_West</td>\n",
       "    </tr>\n",
       "    <tr>\n",
       "      <th>3</th>\n",
       "      <td>YAK/S/00004</td>\n",
       "      <td>Commercial Sales and Marketing</td>\n",
       "      <td>First Degree or HND</td>\n",
       "      <td>Male</td>\n",
       "      <td>Agency and others</td>\n",
       "      <td>3</td>\n",
       "      <td>1982</td>\n",
       "      <td>2.5</td>\n",
       "      <td>2009</td>\n",
       "      <td>0</td>\n",
       "      <td>0</td>\n",
       "      <td>42</td>\n",
       "      <td>NIGER</td>\n",
       "      <td>Yes</td>\n",
       "      <td>Single</td>\n",
       "      <td>No</td>\n",
       "      <td>No</td>\n",
       "      <td>1</td>\n",
       "      <td>0</td>\n",
       "      <td>0</td>\n",
       "      <td>South_West</td>\n",
       "    </tr>\n",
       "    <tr>\n",
       "      <th>4</th>\n",
       "      <td>YAK/S/00006</td>\n",
       "      <td>Information and Strategy</td>\n",
       "      <td>First Degree or HND</td>\n",
       "      <td>Male</td>\n",
       "      <td>Direct Internal process</td>\n",
       "      <td>3</td>\n",
       "      <td>1990</td>\n",
       "      <td>7.5</td>\n",
       "      <td>2012</td>\n",
       "      <td>0</td>\n",
       "      <td>0</td>\n",
       "      <td>77</td>\n",
       "      <td>AKWA IBOM</td>\n",
       "      <td>Yes</td>\n",
       "      <td>Married</td>\n",
       "      <td>No</td>\n",
       "      <td>No</td>\n",
       "      <td>1</td>\n",
       "      <td>0</td>\n",
       "      <td>0</td>\n",
       "      <td>South_West</td>\n",
       "    </tr>\n",
       "  </tbody>\n",
       "</table>\n",
       "</div>"
      ],
      "text/plain": [
       "    EmployeeNo                               Division        Qualification  \\\n",
       "0  YAK/S/00001         Commercial Sales and Marketing     MSc, MBA and PhD   \n",
       "1  YAK/S/00002  Customer Support and Field Operations  First Degree or HND   \n",
       "2  YAK/S/00003         Commercial Sales and Marketing  First Degree or HND   \n",
       "3  YAK/S/00004         Commercial Sales and Marketing  First Degree or HND   \n",
       "4  YAK/S/00006               Information and Strategy  First Degree or HND   \n",
       "\n",
       "   Gender   Channel_of_Recruitment  Trainings_Attended  Year_of_birth  \\\n",
       "0  Female  Direct Internal process                   2           1986   \n",
       "1    Male        Agency and others                   2           1991   \n",
       "2    Male  Direct Internal process                   2           1987   \n",
       "3    Male        Agency and others                   3           1982   \n",
       "4    Male  Direct Internal process                   3           1990   \n",
       "\n",
       "   Last_performance_score  Year_of_recruitment  Targets_met  Previous_Award  \\\n",
       "0                    12.5                 2011            1               0   \n",
       "1                    12.5                 2015            0               0   \n",
       "2                     7.5                 2012            0               0   \n",
       "3                     2.5                 2009            0               0   \n",
       "4                     7.5                 2012            0               0   \n",
       "\n",
       "   Training_score_average State_Of_Origin Foreign_schooled Marital_Status  \\\n",
       "0                      41         ANAMBRA               No        Married   \n",
       "1                      52         ANAMBRA              Yes        Married   \n",
       "2                      42         KATSINA              Yes        Married   \n",
       "3                      42           NIGER              Yes         Single   \n",
       "4                      77       AKWA IBOM              Yes        Married   \n",
       "\n",
       "  Past_Disciplinary_Action Previous_IntraDepartmental_Movement  \\\n",
       "0                       No                                  No   \n",
       "1                       No                                  No   \n",
       "2                       No                                  No   \n",
       "3                       No                                  No   \n",
       "4                       No                                  No   \n",
       "\n",
       "  No_of_previous_employers  Promoted_or_Not  recruit_channel_distinct  \\\n",
       "0                        0                0                         0   \n",
       "1                        0                0                         0   \n",
       "2                        0                0                         0   \n",
       "3                        1                0                         0   \n",
       "4                        1                0                         0   \n",
       "\n",
       "  Geopolitical_zone  \n",
       "0        South_West  \n",
       "1        South_West  \n",
       "2        South_West  \n",
       "3        South_West  \n",
       "4        South_West  "
      ]
     },
     "execution_count": 31,
     "metadata": {},
     "output_type": "execute_result"
    }
   ],
   "source": [
    "train.head()"
   ]
  },
  {
   "cell_type": "code",
   "execution_count": 32,
   "metadata": {},
   "outputs": [],
   "source": [
    "test['Geopolitical_zone'] = test['State_Of_Origin'].apply(train_zone)"
   ]
  },
  {
   "cell_type": "code",
   "execution_count": 33,
   "metadata": {},
   "outputs": [],
   "source": [
    "#Evaluating the Age of employee in the dataset\n",
    "train['Age'] = 2019 - train['Year_of_birth']\n",
    "test['Age'] = 2019 - test['Year_of_birth']"
   ]
  },
  {
   "cell_type": "code",
   "execution_count": 34,
   "metadata": {},
   "outputs": [],
   "source": [
    "#Determinig the age in which employees were recruited\n",
    "train['Start_Age'] = train['Year_of_recruitment'] - train['Year_of_birth']\n",
    "test['Start_Age'] = test['Year_of_recruitment'] - test['Year_of_birth']"
   ]
  },
  {
   "cell_type": "code",
   "execution_count": 35,
   "metadata": {},
   "outputs": [],
   "source": [
    "#Determinig the years a particular employee has been working till date\n",
    "train['Years_of_Service'] = train['Age'] - train['Start_Age']\n",
    "test['Years_of_Service'] = test['Age'] - test['Start_Age']"
   ]
  },
  {
   "cell_type": "code",
   "execution_count": 36,
   "metadata": {},
   "outputs": [
    {
     "data": {
      "text/plain": [
       "count    38312\n",
       "mean        32\n",
       "std          7\n",
       "min         18\n",
       "25%         27\n",
       "50%         31\n",
       "75%         37\n",
       "max         69\n",
       "Name: Age, dtype: int32"
      ]
     },
     "execution_count": 36,
     "metadata": {},
     "output_type": "execute_result"
    }
   ],
   "source": [
    "#Describing the train/test data to check for Min.and max. Age of workers\n",
    "train['Age'].describe().astype(int)"
   ]
  },
  {
   "cell_type": "code",
   "execution_count": 37,
   "metadata": {},
   "outputs": [],
   "source": [
    "def cat_age(x):\n",
    "    if x >= 15 and x <= 24:\n",
    "        return 'Early_Age'\n",
    "    elif x >= 25 and x <= 54:\n",
    "        return 'Prime_Age'\n",
    "    elif x >= 55 and x <= 64:\n",
    "        return 'Mature_Age'\n",
    "    else:\n",
    "        return 'Old_Age'\n",
    "train['Age_division'] = train['Age'].apply(cat_age)"
   ]
  },
  {
   "cell_type": "code",
   "execution_count": 38,
   "metadata": {},
   "outputs": [],
   "source": [
    "test['Age_division'] = test['Age'].apply(cat_age)"
   ]
  },
  {
   "cell_type": "code",
   "execution_count": 39,
   "metadata": {},
   "outputs": [
    {
     "data": {
      "text/plain": [
       "count    38312\n",
       "mean        55\n",
       "std         13\n",
       "min         31\n",
       "25%         43\n",
       "50%         52\n",
       "75%         68\n",
       "max         91\n",
       "Name: Training_score_average, dtype: int32"
      ]
     },
     "execution_count": 39,
     "metadata": {},
     "output_type": "execute_result"
    }
   ],
   "source": [
    "train['Training_score_average'].describe().astype(int)"
   ]
  },
  {
   "cell_type": "code",
   "execution_count": 40,
   "metadata": {},
   "outputs": [],
   "source": [
    "#defining a fxn to grade the scoresheet to understand their performance better\n",
    "def Grade(x):\n",
    "    if x >= 31 and x <= 39:\n",
    "        return 'F'\n",
    "    elif x > 39  and x <= 44:\n",
    "        return 'E'\n",
    "    elif x > 44 and x <= 49:\n",
    "        return 'D'\n",
    "    elif x > 49 and x <= 59:\n",
    "        return 'C'\n",
    "    elif x > 59 and x <= 69:\n",
    "        return 'B'\n",
    "    else:\n",
    "        return 'A'\n",
    "train['Score_grade'] = train['Training_score_average'].apply(Grade)"
   ]
  },
  {
   "cell_type": "code",
   "execution_count": 41,
   "metadata": {},
   "outputs": [],
   "source": [
    "test['Score_grade'] = test['Training_score_average'].apply(Grade)"
   ]
  },
  {
   "cell_type": "code",
   "execution_count": 42,
   "metadata": {},
   "outputs": [],
   "source": [
    "#defining a fxn for retirement age\n",
    "def retirement(y):\n",
    "    if y >= 59:\n",
    "        return 'Clocked'\n",
    "    else:\n",
    "        return 'More years'\n",
    "test['Near_retirement'] = test['Age'].apply(retirement)"
   ]
  },
  {
   "cell_type": "code",
   "execution_count": 43,
   "metadata": {},
   "outputs": [],
   "source": [
    "train['Near_retirement'] = train['Age'].apply(retirement)"
   ]
  },
  {
   "cell_type": "code",
   "execution_count": 44,
   "metadata": {},
   "outputs": [
    {
     "data": {
      "text/plain": [
       "7.5     12993\n",
       "12.5     8213\n",
       "10.0     6932\n",
       "2.5      4325\n",
       "5.0      2944\n",
       "0.0      2905\n",
       "Name: Last_performance_score, dtype: int64"
      ]
     },
     "execution_count": 44,
     "metadata": {},
     "output_type": "execute_result"
    }
   ],
   "source": [
    "train['Last_performance_score'].value_counts()"
   ]
  },
  {
   "cell_type": "code",
   "execution_count": 45,
   "metadata": {},
   "outputs": [],
   "source": [
    "#defining a fxn to classify their performance\n",
    "def performance(x):\n",
    "    if x == 10.0 and x == 12.5:\n",
    "        return 'Excellent'\n",
    "    elif x == 7.5:\n",
    "        return 'Good'\n",
    "    else:\n",
    "        return 'Poor'\n",
    "train['Performance_category'] = train['Last_performance_score'].apply(performance)"
   ]
  },
  {
   "cell_type": "code",
   "execution_count": 46,
   "metadata": {},
   "outputs": [],
   "source": [
    "test['Performance_category'] = test['Last_performance_score'].apply(performance)"
   ]
  },
  {
   "cell_type": "code",
   "execution_count": 47,
   "metadata": {},
   "outputs": [
    {
     "data": {
      "text/plain": [
       "1              18867\n",
       "0              13272\n",
       "2               1918\n",
       "3               1587\n",
       "4               1324\n",
       "5                943\n",
       "More than 5      401\n",
       "Name: No_of_previous_employers, dtype: int64"
      ]
     },
     "execution_count": 47,
     "metadata": {},
     "output_type": "execute_result"
    }
   ],
   "source": [
    "train['No_of_previous_employers'].value_counts()"
   ]
  },
  {
   "cell_type": "code",
   "execution_count": 48,
   "metadata": {},
   "outputs": [],
   "source": [
    "def exp(x):\n",
    "    if x == '0':\n",
    "        return 'no experience'\n",
    "    elif x == '1' and '2':\n",
    "        return 'less experience'\n",
    "    elif x == '3' and '4':\n",
    "        return 'moderate experience'\n",
    "    else:\n",
    "        return 'experienced '\n",
    "train['Work_experience'] = train['No_of_previous_employers'].apply(exp)"
   ]
  },
  {
   "cell_type": "code",
   "execution_count": 49,
   "metadata": {},
   "outputs": [],
   "source": [
    "test['Work_experience'] = test['No_of_previous_employers'].apply(exp)"
   ]
  },
  {
   "cell_type": "code",
   "execution_count": 50,
   "metadata": {},
   "outputs": [],
   "source": [
    "def prompt(train):\n",
    "    if (train['Last_performance_score'] >=10) & (train['Age'] <= 55) & (train['Training_score_average']  >=70) & (train['Previous_Award'] == 1) & (train['Targets_met'] == 1):\n",
    "        hr = 1\n",
    "    else:\n",
    "        hr = 0\n",
    "    return hr"
   ]
  },
  {
   "cell_type": "code",
   "execution_count": 51,
   "metadata": {},
   "outputs": [],
   "source": [
    "train['consistent_perf'] = train.apply(prompt, axis =1)"
   ]
  },
  {
   "cell_type": "code",
   "execution_count": 52,
   "metadata": {},
   "outputs": [],
   "source": [
    "test['consistent_perf'] = test.apply(prompt, axis =1)"
   ]
  },
  {
   "cell_type": "markdown",
   "metadata": {},
   "source": [
    "# BINNING"
   ]
  },
  {
   "cell_type": "code",
   "execution_count": 53,
   "metadata": {},
   "outputs": [],
   "source": [
    "#lets binned their 'last score performance' e.g 0 - 2.5 binned as 1. this will be a good feature for model performance too\n",
    "bins=[0, 5, 10, 15]\n",
    "labels =[1,2,3]\n",
    "train['Binned_performance'] = pd.cut(train['Last_performance_score'], bins = bins, labels =labels)"
   ]
  },
  {
   "cell_type": "code",
   "execution_count": 54,
   "metadata": {},
   "outputs": [],
   "source": [
    "bins=[0, 5, 10, 15]\n",
    "labels =[1,2,3]\n",
    "test['Binned_performance'] = pd.cut(test['Last_performance_score'], bins = bins, labels =labels)"
   ]
  },
  {
   "cell_type": "code",
   "execution_count": 55,
   "metadata": {},
   "outputs": [
    {
     "data": {
      "text/plain": [
       "count    38312.000000\n",
       "mean        32.790666\n",
       "std          7.646047\n",
       "min         18.000000\n",
       "25%         27.000000\n",
       "50%         31.000000\n",
       "75%         37.000000\n",
       "max         69.000000\n",
       "Name: Age, dtype: float64"
      ]
     },
     "execution_count": 55,
     "metadata": {},
     "output_type": "execute_result"
    }
   ],
   "source": [
    "train['Age'].describe()"
   ]
  },
  {
   "cell_type": "code",
   "execution_count": 56,
   "metadata": {},
   "outputs": [
    {
     "data": {
      "text/plain": [
       "<matplotlib.axes._subplots.AxesSubplot at 0x1e0b12ae198>"
      ]
     },
     "execution_count": 56,
     "metadata": {},
     "output_type": "execute_result"
    },
    {
     "data": {
      "image/png": "[encoded data removed]",
      "text/plain": [
       "<Figure size 432x288 with 1 Axes>"
      ]
     },
     "metadata": {
      "needs_background": "light"
     },
     "output_type": "display_data"
    }
   ],
   "source": [
    "sns.distplot(train['Age'])"
   ]
  },
  {
   "cell_type": "code",
   "execution_count": 57,
   "metadata": {},
   "outputs": [],
   "source": [
    "#lets take a log fxn to skew the distribution due to the outliers\n",
    "test['Age_logged'] = np.log(test['Age'])\n",
    "train['Age_logged'] = np.log(train['Age'])"
   ]
  },
  {
   "cell_type": "code",
   "execution_count": 58,
   "metadata": {},
   "outputs": [
    {
     "data": {
      "text/plain": [
       "<matplotlib.axes._subplots.AxesSubplot at 0x1e0b1391630>"
      ]
     },
     "execution_count": 58,
     "metadata": {},
     "output_type": "execute_result"
    },
    {
     "data": {
      "image/png": "[encoded data removed]",
      "text/plain": [
       "<Figure size 432x288 with 1 Axes>"
      ]
     },
     "metadata": {
      "needs_background": "light"
     },
     "output_type": "display_data"
    }
   ],
   "source": [
    "sns.distplot(train['Age_logged'])"
   ]
  },
  {
   "cell_type": "markdown",
   "metadata": {},
   "source": [
    "# Some Visualizations"
   ]
  },
  {
   "cell_type": "code",
   "execution_count": 59,
   "metadata": {},
   "outputs": [
    {
     "data": {
      "image/png": "[encoded data removed]",
      "text/plain": [
       "<Figure size 360x360 with 1 Axes>"
      ]
     },
     "metadata": {
      "needs_background": "light"
     },
     "output_type": "display_data"
    }
   ],
   "source": [
    "sns.catplot(x ='Qualification', kind ='count', palette='pastel', data = train);"
   ]
  },
  {
   "cell_type": "code",
   "execution_count": 60,
   "metadata": {},
   "outputs": [
    {
     "data": {
      "text/plain": [
       "<matplotlib.axes._subplots.AxesSubplot at 0x1e0b14cd1d0>"
      ]
     },
     "execution_count": 60,
     "metadata": {},
     "output_type": "execute_result"
    },
    {
     "data": {
      "image/png": "[encoded data removed]",
      "text/plain": [
       "<Figure size 432x288 with 1 Axes>"
      ]
     },
     "metadata": {
      "needs_background": "light"
     },
     "output_type": "display_data"
    }
   ],
   "source": [
    "train['Years_of_Service'].hist(bins=20)"
   ]
  },
  {
   "cell_type": "code",
   "execution_count": 61,
   "metadata": {},
   "outputs": [
    {
     "data": {
      "text/plain": [
       "<matplotlib.axes._subplots.AxesSubplot at 0x1e0b2f1e240>"
      ]
     },
     "execution_count": 61,
     "metadata": {},
     "output_type": "execute_result"
    },
    {
     "data": {
      "image/png": "[encoded data removed]",
      "text/plain": [
       "<Figure size 432x288 with 2 Axes>"
      ]
     },
     "metadata": {
      "needs_background": "light"
     },
     "output_type": "display_data"
    }
   ],
   "source": [
    "sns.heatmap(train.corr(), square=True,linewidth=6.8)"
   ]
  },
  {
   "cell_type": "code",
   "execution_count": 62,
   "metadata": {},
   "outputs": [
    {
     "data": {
      "text/plain": [
       "<matplotlib.axes._subplots.AxesSubplot at 0x1e0b156b160>"
      ]
     },
     "execution_count": 62,
     "metadata": {},
     "output_type": "execute_result"
    },
    {
     "data": {
      "image/png": "[encoded data removed]",
      "text/plain": [
       "<Figure size 1440x720 with 2 Axes>"
      ]
     },
     "metadata": {
      "needs_background": "light"
     },
     "output_type": "display_data"
    }
   ],
   "source": [
    "#plot heatmap to find correlation among features\n",
    "corrmat =train.corr()\n",
    "f, ax = plt.subplots(figsize=(20,10))\n",
    "sns.heatmap(corrmat, square=True, annot=True,linewidth=0.8, cmap='RdBu')"
   ]
  },
  {
   "cell_type": "code",
   "execution_count": 63,
   "metadata": {},
   "outputs": [
    {
     "data": {
      "text/plain": [
       "<seaborn.axisgrid.PairGrid at 0x1e0b2f56da0>"
      ]
     },
     "execution_count": 63,
     "metadata": {},
     "output_type": "execute_result"
    },
    {
     "data": {
      "image/png": "[encoded data removed]",
      "text/plain": [
       "<Figure size 900x180 with 5 Axes>"
      ]
     },
     "metadata": {
      "needs_background": "light"
     },
     "output_type": "display_data"
    }
   ],
   "source": [
    "sns.pairplot(train, x_vars=['Training_score_average','Trainings_Attended','Targets_met','Age','Last_performance_score'], y_vars =['Promoted_or_Not'])"
   ]
  },
  {
   "cell_type": "code",
   "execution_count": 64,
   "metadata": {},
   "outputs": [
    {
     "data": {
      "text/plain": [
       "<seaborn.axisgrid.JointGrid at 0x1e0b2ba15f8>"
      ]
     },
     "execution_count": 64,
     "metadata": {},
     "output_type": "execute_result"
    },
    {
     "data": {
      "image/png": "[encoded data removed]",
      "text/plain": [
       "<Figure size 432x432 with 3 Axes>"
      ]
     },
     "metadata": {
      "needs_background": "light"
     },
     "output_type": "display_data"
    }
   ],
   "source": [
    "sns.jointplot(x='Trainings_Attended', y='Promoted_or_Not', data =train, kind ='scatter')"
   ]
  },
  {
   "cell_type": "code",
   "execution_count": 65,
   "metadata": {},
   "outputs": [
    {
     "data": {
      "text/plain": [
       "<seaborn.axisgrid.JointGrid at 0x1e0b2d4ef98>"
      ]
     },
     "execution_count": 65,
     "metadata": {},
     "output_type": "execute_result"
    },
    {
     "data": {
      "image/png": "[encoded data removed]",
      "text/plain": [
       "<Figure size 432x432 with 3 Axes>"
      ]
     },
     "metadata": {
      "needs_background": "light"
     },
     "output_type": "display_data"
    }
   ],
   "source": [
    "sns.jointplot(x='Targets_met', y='Promoted_or_Not', data =train)"
   ]
  },
  {
   "cell_type": "code",
   "execution_count": 66,
   "metadata": {},
   "outputs": [
    {
     "data": {
      "text/plain": [
       "<seaborn.axisgrid.JointGrid at 0x1e0b2e994a8>"
      ]
     },
     "execution_count": 66,
     "metadata": {},
     "output_type": "execute_result"
    },
    {
     "data": {
      "image/png": "[encoded data removed]",
      "text/plain": [
       "<Figure size 432x432 with 3 Axes>"
      ]
     },
     "metadata": {
      "needs_background": "light"
     },
     "output_type": "display_data"
    }
   ],
   "source": [
    "sns.jointplot(x='Training_score_average', y='Promoted_or_Not', data =train, kind ='reg')"
   ]
  },
  {
   "cell_type": "code",
   "execution_count": 67,
   "metadata": {},
   "outputs": [
    {
     "data": {
      "text/plain": [
       "EmployeeNo                                0\n",
       "Division                                  0\n",
       "Qualification                          1679\n",
       "Gender                                    0\n",
       "Channel_of_Recruitment                    0\n",
       "Trainings_Attended                        0\n",
       "Year_of_birth                             0\n",
       "Last_performance_score                    0\n",
       "Year_of_recruitment                       0\n",
       "Targets_met                               0\n",
       "Previous_Award                            0\n",
       "Training_score_average                    0\n",
       "State_Of_Origin                           0\n",
       "Foreign_schooled                          0\n",
       "Marital_Status                            0\n",
       "Past_Disciplinary_Action                  0\n",
       "Previous_IntraDepartmental_Movement       0\n",
       "No_of_previous_employers                  0\n",
       "Promoted_or_Not                           0\n",
       "recruit_channel_distinct                  0\n",
       "Geopolitical_zone                         0\n",
       "Age                                       0\n",
       "Start_Age                                 0\n",
       "Years_of_Service                          0\n",
       "Age_division                              0\n",
       "Score_grade                               0\n",
       "Near_retirement                           0\n",
       "Performance_category                      0\n",
       "Work_experience                           0\n",
       "consistent_perf                           0\n",
       "Binned_performance                     2905\n",
       "Age_logged                                0\n",
       "dtype: int64"
      ]
     },
     "execution_count": 67,
     "metadata": {},
     "output_type": "execute_result"
    }
   ],
   "source": [
    "train.isna().sum()"
   ]
  },
  {
   "cell_type": "code",
   "execution_count": 68,
   "metadata": {},
   "outputs": [
    {
     "data": {
      "text/plain": [
       "EmployeeNo                                0\n",
       "Division                                  0\n",
       "Qualification                           730\n",
       "Gender                                    0\n",
       "Channel_of_Recruitment                    0\n",
       "Trainings_Attended                        0\n",
       "Year_of_birth                             0\n",
       "Last_performance_score                    0\n",
       "Year_of_recruitment                       0\n",
       "Targets_met                               0\n",
       "Previous_Award                            0\n",
       "Training_score_average                    0\n",
       "State_Of_Origin                           0\n",
       "Foreign_schooled                          0\n",
       "Marital_Status                            0\n",
       "Past_Disciplinary_Action                  0\n",
       "Previous_IntraDepartmental_Movement       0\n",
       "No_of_previous_employers                  0\n",
       "recruit_channel_distinct                  0\n",
       "Geopolitical_zone                         0\n",
       "Age                                       0\n",
       "Start_Age                                 0\n",
       "Years_of_Service                          0\n",
       "Age_division                              0\n",
       "Score_grade                               0\n",
       "Near_retirement                           0\n",
       "Performance_category                      0\n",
       "Work_experience                           0\n",
       "consistent_perf                           0\n",
       "Binned_performance                     1219\n",
       "Age_logged                                0\n",
       "dtype: int64"
      ]
     },
     "execution_count": 68,
     "metadata": {},
     "output_type": "execute_result"
    }
   ],
   "source": [
    "test.isna().sum()"
   ]
  },
  {
   "cell_type": "code",
   "execution_count": 69,
   "metadata": {},
   "outputs": [],
   "source": [
    "train['Qualification'].replace(np.nan, 'dont know', inplace =True)\n",
    "test['Qualification'].replace(np.nan, 'dont know', inplace =True)"
   ]
  },
  {
   "cell_type": "code",
   "execution_count": 70,
   "metadata": {},
   "outputs": [
    {
     "data": {
      "text/html": [
       "<div>\n",
       "<style scoped>\n",
       "    .dataframe tbody tr th:only-of-type {\n",
       "        vertical-align: middle;\n",
       "    }\n",
       "\n",
       "    .dataframe tbody tr th {\n",
       "        vertical-align: top;\n",
       "    }\n",
       "\n",
       "    .dataframe thead th {\n",
       "        text-align: right;\n",
       "    }\n",
       "</style>\n",
       "<table border=\"1\" class=\"dataframe\">\n",
       "  <thead>\n",
       "    <tr style=\"text-align: right;\">\n",
       "      <th></th>\n",
       "      <th>EmployeeNo</th>\n",
       "      <th>Division</th>\n",
       "      <th>Qualification</th>\n",
       "      <th>Gender</th>\n",
       "      <th>Channel_of_Recruitment</th>\n",
       "      <th>Trainings_Attended</th>\n",
       "      <th>Year_of_birth</th>\n",
       "      <th>Last_performance_score</th>\n",
       "      <th>Year_of_recruitment</th>\n",
       "      <th>Targets_met</th>\n",
       "      <th>Previous_Award</th>\n",
       "      <th>Training_score_average</th>\n",
       "      <th>State_Of_Origin</th>\n",
       "      <th>Foreign_schooled</th>\n",
       "      <th>Marital_Status</th>\n",
       "      <th>Past_Disciplinary_Action</th>\n",
       "      <th>Previous_IntraDepartmental_Movement</th>\n",
       "      <th>No_of_previous_employers</th>\n",
       "      <th>Promoted_or_Not</th>\n",
       "      <th>recruit_channel_distinct</th>\n",
       "      <th>Geopolitical_zone</th>\n",
       "      <th>Age</th>\n",
       "      <th>Start_Age</th>\n",
       "      <th>Years_of_Service</th>\n",
       "      <th>Age_division</th>\n",
       "      <th>Score_grade</th>\n",
       "      <th>Near_retirement</th>\n",
       "      <th>Performance_category</th>\n",
       "      <th>Work_experience</th>\n",
       "      <th>consistent_perf</th>\n",
       "      <th>Binned_performance</th>\n",
       "      <th>Age_logged</th>\n",
       "    </tr>\n",
       "  </thead>\n",
       "  <tbody>\n",
       "    <tr>\n",
       "      <th>17</th>\n",
       "      <td>YAK/S/00024</td>\n",
       "      <td>Sourcing and Purchasing</td>\n",
       "      <td>First Degree or HND</td>\n",
       "      <td>Male</td>\n",
       "      <td>Agency and others</td>\n",
       "      <td>2</td>\n",
       "      <td>1994</td>\n",
       "      <td>0.0</td>\n",
       "      <td>2018</td>\n",
       "      <td>0</td>\n",
       "      <td>0</td>\n",
       "      <td>62</td>\n",
       "      <td>LAGOS</td>\n",
       "      <td>Yes</td>\n",
       "      <td>Single</td>\n",
       "      <td>No</td>\n",
       "      <td>No</td>\n",
       "      <td>4</td>\n",
       "      <td>0</td>\n",
       "      <td>0</td>\n",
       "      <td>South_West</td>\n",
       "      <td>25</td>\n",
       "      <td>24</td>\n",
       "      <td>1</td>\n",
       "      <td>Prime_Age</td>\n",
       "      <td>B</td>\n",
       "      <td>More years</td>\n",
       "      <td>Poor</td>\n",
       "      <td>experienced</td>\n",
       "      <td>0</td>\n",
       "      <td>NaN</td>\n",
       "      <td>3.218876</td>\n",
       "    </tr>\n",
       "    <tr>\n",
       "      <th>21</th>\n",
       "      <td>YAK/S/00030</td>\n",
       "      <td>Commercial Sales and Marketing</td>\n",
       "      <td>First Degree or HND</td>\n",
       "      <td>Male</td>\n",
       "      <td>Direct Internal process</td>\n",
       "      <td>2</td>\n",
       "      <td>1995</td>\n",
       "      <td>0.0</td>\n",
       "      <td>2018</td>\n",
       "      <td>0</td>\n",
       "      <td>0</td>\n",
       "      <td>36</td>\n",
       "      <td>EKITI</td>\n",
       "      <td>Yes</td>\n",
       "      <td>Married</td>\n",
       "      <td>No</td>\n",
       "      <td>No</td>\n",
       "      <td>1</td>\n",
       "      <td>0</td>\n",
       "      <td>0</td>\n",
       "      <td>South_West</td>\n",
       "      <td>24</td>\n",
       "      <td>23</td>\n",
       "      <td>1</td>\n",
       "      <td>Early_Age</td>\n",
       "      <td>F</td>\n",
       "      <td>More years</td>\n",
       "      <td>Poor</td>\n",
       "      <td>less experience</td>\n",
       "      <td>0</td>\n",
       "      <td>NaN</td>\n",
       "      <td>3.178054</td>\n",
       "    </tr>\n",
       "    <tr>\n",
       "      <th>36</th>\n",
       "      <td>YAK/S/00057</td>\n",
       "      <td>Commercial Sales and Marketing</td>\n",
       "      <td>First Degree or HND</td>\n",
       "      <td>Female</td>\n",
       "      <td>Agency and others</td>\n",
       "      <td>2</td>\n",
       "      <td>1992</td>\n",
       "      <td>0.0</td>\n",
       "      <td>2018</td>\n",
       "      <td>0</td>\n",
       "      <td>0</td>\n",
       "      <td>41</td>\n",
       "      <td>BAUCHI</td>\n",
       "      <td>Yes</td>\n",
       "      <td>Married</td>\n",
       "      <td>No</td>\n",
       "      <td>No</td>\n",
       "      <td>1</td>\n",
       "      <td>0</td>\n",
       "      <td>0</td>\n",
       "      <td>South_West</td>\n",
       "      <td>27</td>\n",
       "      <td>26</td>\n",
       "      <td>1</td>\n",
       "      <td>Prime_Age</td>\n",
       "      <td>E</td>\n",
       "      <td>More years</td>\n",
       "      <td>Poor</td>\n",
       "      <td>less experience</td>\n",
       "      <td>0</td>\n",
       "      <td>NaN</td>\n",
       "      <td>3.295837</td>\n",
       "    </tr>\n",
       "    <tr>\n",
       "      <th>37</th>\n",
       "      <td>YAK/S/00059</td>\n",
       "      <td>Commercial Sales and Marketing</td>\n",
       "      <td>First Degree or HND</td>\n",
       "      <td>Male</td>\n",
       "      <td>Agency and others</td>\n",
       "      <td>3</td>\n",
       "      <td>1994</td>\n",
       "      <td>0.0</td>\n",
       "      <td>2018</td>\n",
       "      <td>1</td>\n",
       "      <td>0</td>\n",
       "      <td>39</td>\n",
       "      <td>LAGOS</td>\n",
       "      <td>Yes</td>\n",
       "      <td>Married</td>\n",
       "      <td>No</td>\n",
       "      <td>No</td>\n",
       "      <td>1</td>\n",
       "      <td>0</td>\n",
       "      <td>0</td>\n",
       "      <td>South_West</td>\n",
       "      <td>25</td>\n",
       "      <td>24</td>\n",
       "      <td>1</td>\n",
       "      <td>Prime_Age</td>\n",
       "      <td>F</td>\n",
       "      <td>More years</td>\n",
       "      <td>Poor</td>\n",
       "      <td>less experience</td>\n",
       "      <td>0</td>\n",
       "      <td>NaN</td>\n",
       "      <td>3.218876</td>\n",
       "    </tr>\n",
       "    <tr>\n",
       "      <th>43</th>\n",
       "      <td>YAK/S/00068</td>\n",
       "      <td>Commercial Sales and Marketing</td>\n",
       "      <td>First Degree or HND</td>\n",
       "      <td>Male</td>\n",
       "      <td>Direct Internal process</td>\n",
       "      <td>2</td>\n",
       "      <td>1994</td>\n",
       "      <td>0.0</td>\n",
       "      <td>2018</td>\n",
       "      <td>0</td>\n",
       "      <td>0</td>\n",
       "      <td>53</td>\n",
       "      <td>ENUGU</td>\n",
       "      <td>No</td>\n",
       "      <td>Married</td>\n",
       "      <td>No</td>\n",
       "      <td>No</td>\n",
       "      <td>0</td>\n",
       "      <td>1</td>\n",
       "      <td>0</td>\n",
       "      <td>South_West</td>\n",
       "      <td>25</td>\n",
       "      <td>24</td>\n",
       "      <td>1</td>\n",
       "      <td>Prime_Age</td>\n",
       "      <td>C</td>\n",
       "      <td>More years</td>\n",
       "      <td>Poor</td>\n",
       "      <td>no experience</td>\n",
       "      <td>0</td>\n",
       "      <td>NaN</td>\n",
       "      <td>3.218876</td>\n",
       "    </tr>\n",
       "    <tr>\n",
       "      <th>...</th>\n",
       "      <td>...</td>\n",
       "      <td>...</td>\n",
       "      <td>...</td>\n",
       "      <td>...</td>\n",
       "      <td>...</td>\n",
       "      <td>...</td>\n",
       "      <td>...</td>\n",
       "      <td>...</td>\n",
       "      <td>...</td>\n",
       "      <td>...</td>\n",
       "      <td>...</td>\n",
       "      <td>...</td>\n",
       "      <td>...</td>\n",
       "      <td>...</td>\n",
       "      <td>...</td>\n",
       "      <td>...</td>\n",
       "      <td>...</td>\n",
       "      <td>...</td>\n",
       "      <td>...</td>\n",
       "      <td>...</td>\n",
       "      <td>...</td>\n",
       "      <td>...</td>\n",
       "      <td>...</td>\n",
       "      <td>...</td>\n",
       "      <td>...</td>\n",
       "      <td>...</td>\n",
       "      <td>...</td>\n",
       "      <td>...</td>\n",
       "      <td>...</td>\n",
       "      <td>...</td>\n",
       "      <td>...</td>\n",
       "      <td>...</td>\n",
       "    </tr>\n",
       "    <tr>\n",
       "      <th>38243</th>\n",
       "      <td>YAK/S/54704</td>\n",
       "      <td>Research and Innovation</td>\n",
       "      <td>First Degree or HND</td>\n",
       "      <td>Male</td>\n",
       "      <td>Direct Internal process</td>\n",
       "      <td>2</td>\n",
       "      <td>1991</td>\n",
       "      <td>0.0</td>\n",
       "      <td>2018</td>\n",
       "      <td>1</td>\n",
       "      <td>0</td>\n",
       "      <td>80</td>\n",
       "      <td>JIGAWA</td>\n",
       "      <td>Yes</td>\n",
       "      <td>Married</td>\n",
       "      <td>No</td>\n",
       "      <td>No</td>\n",
       "      <td>1</td>\n",
       "      <td>0</td>\n",
       "      <td>0</td>\n",
       "      <td>South_West</td>\n",
       "      <td>28</td>\n",
       "      <td>27</td>\n",
       "      <td>1</td>\n",
       "      <td>Prime_Age</td>\n",
       "      <td>A</td>\n",
       "      <td>More years</td>\n",
       "      <td>Poor</td>\n",
       "      <td>less experience</td>\n",
       "      <td>0</td>\n",
       "      <td>NaN</td>\n",
       "      <td>3.332205</td>\n",
       "    </tr>\n",
       "    <tr>\n",
       "      <th>38267</th>\n",
       "      <td>YAK/S/54735</td>\n",
       "      <td>Customer Support and Field Operations</td>\n",
       "      <td>First Degree or HND</td>\n",
       "      <td>Male</td>\n",
       "      <td>Direct Internal process</td>\n",
       "      <td>2</td>\n",
       "      <td>1990</td>\n",
       "      <td>0.0</td>\n",
       "      <td>2018</td>\n",
       "      <td>1</td>\n",
       "      <td>0</td>\n",
       "      <td>48</td>\n",
       "      <td>KADUNA</td>\n",
       "      <td>Yes</td>\n",
       "      <td>Married</td>\n",
       "      <td>No</td>\n",
       "      <td>No</td>\n",
       "      <td>1</td>\n",
       "      <td>1</td>\n",
       "      <td>0</td>\n",
       "      <td>South_West</td>\n",
       "      <td>29</td>\n",
       "      <td>28</td>\n",
       "      <td>1</td>\n",
       "      <td>Prime_Age</td>\n",
       "      <td>D</td>\n",
       "      <td>More years</td>\n",
       "      <td>Poor</td>\n",
       "      <td>less experience</td>\n",
       "      <td>0</td>\n",
       "      <td>NaN</td>\n",
       "      <td>3.367296</td>\n",
       "    </tr>\n",
       "    <tr>\n",
       "      <th>38275</th>\n",
       "      <td>YAK/S/54747</td>\n",
       "      <td>Business Finance Operations</td>\n",
       "      <td>First Degree or HND</td>\n",
       "      <td>Male</td>\n",
       "      <td>Agency and others</td>\n",
       "      <td>2</td>\n",
       "      <td>1993</td>\n",
       "      <td>0.0</td>\n",
       "      <td>2018</td>\n",
       "      <td>1</td>\n",
       "      <td>0</td>\n",
       "      <td>53</td>\n",
       "      <td>DELTA</td>\n",
       "      <td>Yes</td>\n",
       "      <td>Married</td>\n",
       "      <td>No</td>\n",
       "      <td>No</td>\n",
       "      <td>4</td>\n",
       "      <td>0</td>\n",
       "      <td>0</td>\n",
       "      <td>South_West</td>\n",
       "      <td>26</td>\n",
       "      <td>25</td>\n",
       "      <td>1</td>\n",
       "      <td>Prime_Age</td>\n",
       "      <td>C</td>\n",
       "      <td>More years</td>\n",
       "      <td>Poor</td>\n",
       "      <td>experienced</td>\n",
       "      <td>0</td>\n",
       "      <td>NaN</td>\n",
       "      <td>3.258097</td>\n",
       "    </tr>\n",
       "    <tr>\n",
       "      <th>38291</th>\n",
       "      <td>YAK/S/54774</td>\n",
       "      <td>Business Finance Operations</td>\n",
       "      <td>First Degree or HND</td>\n",
       "      <td>Male</td>\n",
       "      <td>Agency and others</td>\n",
       "      <td>2</td>\n",
       "      <td>1998</td>\n",
       "      <td>0.0</td>\n",
       "      <td>2018</td>\n",
       "      <td>1</td>\n",
       "      <td>0</td>\n",
       "      <td>53</td>\n",
       "      <td>OGUN</td>\n",
       "      <td>Yes</td>\n",
       "      <td>Married</td>\n",
       "      <td>No</td>\n",
       "      <td>No</td>\n",
       "      <td>1</td>\n",
       "      <td>0</td>\n",
       "      <td>0</td>\n",
       "      <td>South_West</td>\n",
       "      <td>21</td>\n",
       "      <td>20</td>\n",
       "      <td>1</td>\n",
       "      <td>Early_Age</td>\n",
       "      <td>C</td>\n",
       "      <td>More years</td>\n",
       "      <td>Poor</td>\n",
       "      <td>less experience</td>\n",
       "      <td>0</td>\n",
       "      <td>NaN</td>\n",
       "      <td>3.044522</td>\n",
       "    </tr>\n",
       "    <tr>\n",
       "      <th>38307</th>\n",
       "      <td>YAK/S/54802</td>\n",
       "      <td>Information Technology and Solution Support</td>\n",
       "      <td>First Degree or HND</td>\n",
       "      <td>Female</td>\n",
       "      <td>Direct Internal process</td>\n",
       "      <td>2</td>\n",
       "      <td>1990</td>\n",
       "      <td>0.0</td>\n",
       "      <td>2018</td>\n",
       "      <td>0</td>\n",
       "      <td>0</td>\n",
       "      <td>70</td>\n",
       "      <td>LAGOS</td>\n",
       "      <td>Yes</td>\n",
       "      <td>Married</td>\n",
       "      <td>No</td>\n",
       "      <td>No</td>\n",
       "      <td>0</td>\n",
       "      <td>0</td>\n",
       "      <td>0</td>\n",
       "      <td>South_West</td>\n",
       "      <td>29</td>\n",
       "      <td>28</td>\n",
       "      <td>1</td>\n",
       "      <td>Prime_Age</td>\n",
       "      <td>A</td>\n",
       "      <td>More years</td>\n",
       "      <td>Poor</td>\n",
       "      <td>no experience</td>\n",
       "      <td>0</td>\n",
       "      <td>NaN</td>\n",
       "      <td>3.367296</td>\n",
       "    </tr>\n",
       "  </tbody>\n",
       "</table>\n",
       "<p>2905 rows × 32 columns</p>\n",
       "</div>"
      ],
      "text/plain": [
       "        EmployeeNo                                     Division  \\\n",
       "17     YAK/S/00024                      Sourcing and Purchasing   \n",
       "21     YAK/S/00030               Commercial Sales and Marketing   \n",
       "36     YAK/S/00057               Commercial Sales and Marketing   \n",
       "37     YAK/S/00059               Commercial Sales and Marketing   \n",
       "43     YAK/S/00068               Commercial Sales and Marketing   \n",
       "...            ...                                          ...   \n",
       "38243  YAK/S/54704                      Research and Innovation   \n",
       "38267  YAK/S/54735        Customer Support and Field Operations   \n",
       "38275  YAK/S/54747                  Business Finance Operations   \n",
       "38291  YAK/S/54774                  Business Finance Operations   \n",
       "38307  YAK/S/54802  Information Technology and Solution Support   \n",
       "\n",
       "             Qualification  Gender   Channel_of_Recruitment  \\\n",
       "17     First Degree or HND    Male        Agency and others   \n",
       "21     First Degree or HND    Male  Direct Internal process   \n",
       "36     First Degree or HND  Female        Agency and others   \n",
       "37     First Degree or HND    Male        Agency and others   \n",
       "43     First Degree or HND    Male  Direct Internal process   \n",
       "...                    ...     ...                      ...   \n",
       "38243  First Degree or HND    Male  Direct Internal process   \n",
       "38267  First Degree or HND    Male  Direct Internal process   \n",
       "38275  First Degree or HND    Male        Agency and others   \n",
       "38291  First Degree or HND    Male        Agency and others   \n",
       "38307  First Degree or HND  Female  Direct Internal process   \n",
       "\n",
       "       Trainings_Attended  Year_of_birth  Last_performance_score  \\\n",
       "17                      2           1994                     0.0   \n",
       "21                      2           1995                     0.0   \n",
       "36                      2           1992                     0.0   \n",
       "37                      3           1994                     0.0   \n",
       "43                      2           1994                     0.0   \n",
       "...                   ...            ...                     ...   \n",
       "38243                   2           1991                     0.0   \n",
       "38267                   2           1990                     0.0   \n",
       "38275                   2           1993                     0.0   \n",
       "38291                   2           1998                     0.0   \n",
       "38307                   2           1990                     0.0   \n",
       "\n",
       "       Year_of_recruitment  Targets_met  Previous_Award  \\\n",
       "17                    2018            0               0   \n",
       "21                    2018            0               0   \n",
       "36                    2018            0               0   \n",
       "37                    2018            1               0   \n",
       "43                    2018            0               0   \n",
       "...                    ...          ...             ...   \n",
       "38243                 2018            1               0   \n",
       "38267                 2018            1               0   \n",
       "38275                 2018            1               0   \n",
       "38291                 2018            1               0   \n",
       "38307                 2018            0               0   \n",
       "\n",
       "       Training_score_average State_Of_Origin Foreign_schooled Marital_Status  \\\n",
       "17                         62           LAGOS              Yes         Single   \n",
       "21                         36           EKITI              Yes        Married   \n",
       "36                         41          BAUCHI              Yes        Married   \n",
       "37                         39           LAGOS              Yes        Married   \n",
       "43                         53           ENUGU               No        Married   \n",
       "...                       ...             ...              ...            ...   \n",
       "38243                      80          JIGAWA              Yes        Married   \n",
       "38267                      48          KADUNA              Yes        Married   \n",
       "38275                      53           DELTA              Yes        Married   \n",
       "38291                      53            OGUN              Yes        Married   \n",
       "38307                      70           LAGOS              Yes        Married   \n",
       "\n",
       "      Past_Disciplinary_Action Previous_IntraDepartmental_Movement  \\\n",
       "17                          No                                  No   \n",
       "21                          No                                  No   \n",
       "36                          No                                  No   \n",
       "37                          No                                  No   \n",
       "43                          No                                  No   \n",
       "...                        ...                                 ...   \n",
       "38243                       No                                  No   \n",
       "38267                       No                                  No   \n",
       "38275                       No                                  No   \n",
       "38291                       No                                  No   \n",
       "38307                       No                                  No   \n",
       "\n",
       "      No_of_previous_employers  Promoted_or_Not  recruit_channel_distinct  \\\n",
       "17                           4                0                         0   \n",
       "21                           1                0                         0   \n",
       "36                           1                0                         0   \n",
       "37                           1                0                         0   \n",
       "43                           0                1                         0   \n",
       "...                        ...              ...                       ...   \n",
       "38243                        1                0                         0   \n",
       "38267                        1                1                         0   \n",
       "38275                        4                0                         0   \n",
       "38291                        1                0                         0   \n",
       "38307                        0                0                         0   \n",
       "\n",
       "      Geopolitical_zone  Age  Start_Age  Years_of_Service Age_division  \\\n",
       "17           South_West   25         24                 1    Prime_Age   \n",
       "21           South_West   24         23                 1    Early_Age   \n",
       "36           South_West   27         26                 1    Prime_Age   \n",
       "37           South_West   25         24                 1    Prime_Age   \n",
       "43           South_West   25         24                 1    Prime_Age   \n",
       "...                 ...  ...        ...               ...          ...   \n",
       "38243        South_West   28         27                 1    Prime_Age   \n",
       "38267        South_West   29         28                 1    Prime_Age   \n",
       "38275        South_West   26         25                 1    Prime_Age   \n",
       "38291        South_West   21         20                 1    Early_Age   \n",
       "38307        South_West   29         28                 1    Prime_Age   \n",
       "\n",
       "      Score_grade Near_retirement Performance_category  Work_experience  \\\n",
       "17              B      More years                 Poor     experienced    \n",
       "21              F      More years                 Poor  less experience   \n",
       "36              E      More years                 Poor  less experience   \n",
       "37              F      More years                 Poor  less experience   \n",
       "43              C      More years                 Poor    no experience   \n",
       "...           ...             ...                  ...              ...   \n",
       "38243           A      More years                 Poor  less experience   \n",
       "38267           D      More years                 Poor  less experience   \n",
       "38275           C      More years                 Poor     experienced    \n",
       "38291           C      More years                 Poor  less experience   \n",
       "38307           A      More years                 Poor    no experience   \n",
       "\n",
       "       consistent_perf Binned_performance  Age_logged  \n",
       "17                   0                NaN    3.218876  \n",
       "21                   0                NaN    3.178054  \n",
       "36                   0                NaN    3.295837  \n",
       "37                   0                NaN    3.218876  \n",
       "43                   0                NaN    3.218876  \n",
       "...                ...                ...         ...  \n",
       "38243                0                NaN    3.332205  \n",
       "38267                0                NaN    3.367296  \n",
       "38275                0                NaN    3.258097  \n",
       "38291                0                NaN    3.044522  \n",
       "38307                0                NaN    3.367296  \n",
       "\n",
       "[2905 rows x 32 columns]"
      ]
     },
     "execution_count": 70,
     "metadata": {},
     "output_type": "execute_result"
    }
   ],
   "source": [
    "#Lets pull out all rows with NaN and examin them\n",
    "train[train.isnull().T.any().T]"
   ]
  },
  {
   "cell_type": "code",
   "execution_count": 71,
   "metadata": {},
   "outputs": [],
   "source": [
    "#Due to binning, value with zero couldnt be binned. therefore lets replace NaN with zero\n",
    "train['Binned_performance'].replace(np.nan, 0, inplace =True)\n",
    "test['Binned_performance'].replace(np.nan, 0, inplace =True)"
   ]
  },
  {
   "cell_type": "code",
   "execution_count": 72,
   "metadata": {},
   "outputs": [
    {
     "data": {
      "text/plain": [
       "EmployeeNo                             0\n",
       "Division                               0\n",
       "Qualification                          0\n",
       "Gender                                 0\n",
       "Channel_of_Recruitment                 0\n",
       "Trainings_Attended                     0\n",
       "Year_of_birth                          0\n",
       "Last_performance_score                 0\n",
       "Year_of_recruitment                    0\n",
       "Targets_met                            0\n",
       "Previous_Award                         0\n",
       "Training_score_average                 0\n",
       "State_Of_Origin                        0\n",
       "Foreign_schooled                       0\n",
       "Marital_Status                         0\n",
       "Past_Disciplinary_Action               0\n",
       "Previous_IntraDepartmental_Movement    0\n",
       "No_of_previous_employers               0\n",
       "Promoted_or_Not                        0\n",
       "recruit_channel_distinct               0\n",
       "Geopolitical_zone                      0\n",
       "Age                                    0\n",
       "Start_Age                              0\n",
       "Years_of_Service                       0\n",
       "Age_division                           0\n",
       "Score_grade                            0\n",
       "Near_retirement                        0\n",
       "Performance_category                   0\n",
       "Work_experience                        0\n",
       "consistent_perf                        0\n",
       "Binned_performance                     0\n",
       "Age_logged                             0\n",
       "dtype: int64"
      ]
     },
     "execution_count": 72,
     "metadata": {},
     "output_type": "execute_result"
    }
   ],
   "source": [
    "train.isna().sum()"
   ]
  },
  {
   "cell_type": "code",
   "execution_count": 73,
   "metadata": {},
   "outputs": [
    {
     "data": {
      "text/plain": [
       "EmployeeNo                             0\n",
       "Division                               0\n",
       "Qualification                          0\n",
       "Gender                                 0\n",
       "Channel_of_Recruitment                 0\n",
       "Trainings_Attended                     0\n",
       "Year_of_birth                          0\n",
       "Last_performance_score                 0\n",
       "Year_of_recruitment                    0\n",
       "Targets_met                            0\n",
       "Previous_Award                         0\n",
       "Training_score_average                 0\n",
       "State_Of_Origin                        0\n",
       "Foreign_schooled                       0\n",
       "Marital_Status                         0\n",
       "Past_Disciplinary_Action               0\n",
       "Previous_IntraDepartmental_Movement    0\n",
       "No_of_previous_employers               0\n",
       "recruit_channel_distinct               0\n",
       "Geopolitical_zone                      0\n",
       "Age                                    0\n",
       "Start_Age                              0\n",
       "Years_of_Service                       0\n",
       "Age_division                           0\n",
       "Score_grade                            0\n",
       "Near_retirement                        0\n",
       "Performance_category                   0\n",
       "Work_experience                        0\n",
       "consistent_perf                        0\n",
       "Binned_performance                     0\n",
       "Age_logged                             0\n",
       "dtype: int64"
      ]
     },
     "execution_count": 73,
     "metadata": {},
     "output_type": "execute_result"
    }
   ],
   "source": [
    "test.isnull().sum()"
   ]
  },
  {
   "cell_type": "code",
   "execution_count": 74,
   "metadata": {},
   "outputs": [],
   "source": [
    "#Now, we have no missing values in the datasets"
   ]
  },
  {
   "cell_type": "code",
   "execution_count": 75,
   "metadata": {},
   "outputs": [],
   "source": [
    "train = train.drop(['Foreign_schooled','Past_Disciplinary_Action'], axis =1)\n",
    "test= test.drop(['Foreign_schooled','Past_Disciplinary_Action'], axis =1)"
   ]
  },
  {
   "cell_type": "code",
   "execution_count": 76,
   "metadata": {},
   "outputs": [],
   "source": [
    "x =train.drop(['Promoted_or_Not'], axis =1)\n",
    "y =train.Promoted_or_Not"
   ]
  },
  {
   "cell_type": "code",
   "execution_count": 77,
   "metadata": {},
   "outputs": [
    {
     "name": "stdout",
     "output_type": "stream",
     "text": [
      "<class 'pandas.core.frame.DataFrame'>\n",
      "RangeIndex: 38312 entries, 0 to 38311\n",
      "Data columns (total 29 columns):\n",
      "EmployeeNo                             38312 non-null object\n",
      "Division                               38312 non-null object\n",
      "Qualification                          38312 non-null object\n",
      "Gender                                 38312 non-null object\n",
      "Channel_of_Recruitment                 38312 non-null object\n",
      "Trainings_Attended                     38312 non-null int64\n",
      "Year_of_birth                          38312 non-null int64\n",
      "Last_performance_score                 38312 non-null float64\n",
      "Year_of_recruitment                    38312 non-null int64\n",
      "Targets_met                            38312 non-null int64\n",
      "Previous_Award                         38312 non-null int64\n",
      "Training_score_average                 38312 non-null int64\n",
      "State_Of_Origin                        38312 non-null object\n",
      "Marital_Status                         38312 non-null object\n",
      "Previous_IntraDepartmental_Movement    38312 non-null object\n",
      "No_of_previous_employers               38312 non-null object\n",
      "recruit_channel_distinct               38312 non-null int64\n",
      "Geopolitical_zone                      38312 non-null object\n",
      "Age                                    38312 non-null int64\n",
      "Start_Age                              38312 non-null int64\n",
      "Years_of_Service                       38312 non-null int64\n",
      "Age_division                           38312 non-null object\n",
      "Score_grade                            38312 non-null object\n",
      "Near_retirement                        38312 non-null object\n",
      "Performance_category                   38312 non-null object\n",
      "Work_experience                        38312 non-null object\n",
      "consistent_perf                        38312 non-null int64\n",
      "Binned_performance                     38312 non-null float64\n",
      "Age_logged                             38312 non-null float64\n",
      "dtypes: float64(3), int64(11), object(15)\n",
      "memory usage: 8.5+ MB\n"
     ]
    }
   ],
   "source": [
    "x.info()"
   ]
  },
  {
   "cell_type": "code",
   "execution_count": 92,
   "metadata": {},
   "outputs": [],
   "source": [
    "from sklearn.model_selection import train_test_split"
   ]
  },
  {
   "cell_type": "code",
   "execution_count": 93,
   "metadata": {},
   "outputs": [],
   "source": [
    "x_train,x_val,y_train,y_val = train_test_split(x,y, test_size = 0.20, random_state=42)"
   ]
  },
  {
   "cell_type": "code",
   "execution_count": 89,
   "metadata": {},
   "outputs": [],
   "source": [
    "cate_features_index=np.where(x.dtypes != float) [0]"
   ]
  },
  {
   "cell_type": "code",
   "execution_count": 90,
   "metadata": {},
   "outputs": [],
   "source": [
    "from catboost import CatBoostClassifier, Pool, cv"
   ]
  },
  {
   "cell_type": "code",
   "execution_count": 80,
   "metadata": {},
   "outputs": [],
   "source": [
    "model = CatBoostClassifier(iterations=5000, depth=7, learning_rate=0.05, eval_metric ='Accuracy',use_best_model=True, random_seed=42)\n",
    "model.fit(x_train,y_train,cat_features=cate_features_index,eval_set=(x_val,y_val))"
   ]
  },
  {
   "cell_type": "code",
   "execution_count": 81,
   "metadata": {},
   "outputs": [],
   "source": [
    "y_pred = model.predict(x_val)"
   ]
  },
  {
   "cell_type": "code",
   "execution_count": 82,
   "metadata": {},
   "outputs": [],
   "source": [
    "cm = confusion_matrix(y,y_pred)\n",
    "cm"
   ]
  },
  {
   "cell_type": "code",
   "execution_count": 83,
   "metadata": {},
   "outputs": [],
   "source": [
    "print(classification_report(y, y_pred))"
   ]
  },
  {
   "cell_type": "code",
   "execution_count": 84,
   "metadata": {},
   "outputs": [],
   "source": [
    "pred =model.predict(test)\n",
    "pred = pred.astype(np.int)"
   ]
  },
  {
   "cell_type": "code",
   "execution_count": 85,
   "metadata": {},
   "outputs": [],
   "source": [
    "xfinal =pd.DataFrame({'EmployeeNo': test['EmployeeNo']})\n",
    "yfinal = pd.DataFrame ({'Promoted_or_Not' :pred})"
   ]
  },
  {
   "cell_type": "code",
   "execution_count": 86,
   "metadata": {},
   "outputs": [],
   "source": [
    "my_submission =pd.concat([xfinal, yfinal], axis ='columns')\n",
    "my_submission.head()"
   ]
  },
  {
   "cell_type": "code",
   "execution_count": 87,
   "metadata": {},
   "outputs": [],
   "source": [
    "my_submission.to_csv('Steve.csv', index =False)"
   ]
  },
  {
   "cell_type": "code",
   "execution_count": null,
   "metadata": {},
   "outputs": [],
   "source": []
  }
 ],
 "metadata": {
  "kernelspec": {
   "display_name": "Python 3",
   "language": "python",
   "name": "python3"
  },
  "language_info": {
   "codemirror_mode": {
    "name": "ipython",
    "version": 3
   },
   "file_extension": ".py",
   "mimetype": "text/x-python",
   "name": "python",
   "nbconvert_exporter": "python",
   "pygments_lexer": "ipython3",
   "version": "3.7.1"
  }
 },
 "nbformat": 4,
 "nbformat_minor": 2
}
